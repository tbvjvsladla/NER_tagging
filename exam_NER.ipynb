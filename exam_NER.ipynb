{
 "cells": [
  {
   "cell_type": "code",
   "execution_count": 1,
   "metadata": {},
   "outputs": [],
   "source": [
    "import json\n",
    "\n",
    "file_path = './1.Training/라벨링데이터/안전건설/안전건설_93747.json'\n",
    "\n",
    "#json파일 불러오기\n",
    "with open(file_path, 'r', encoding='utf-8') as f:\n",
    "    data = json.load(f)"
   ]
  },
  {
   "cell_type": "code",
   "execution_count": 2,
   "metadata": {},
   "outputs": [],
   "source": [
    "parsed_data =[] # 파싱 데이터를 저장할 변수\n",
    "\n",
    "for docu in data['documents']:\n",
    "    # 문서 내 id, Q_refined 추출\n",
    "    doc_id = docu['id']\n",
    "    q_refiled = docu['Q_refined']\n",
    "\n",
    "    # endity는 여러개 존재하니 [개채명 : 개체 분류] 형식으로 파싱\n",
    "    entities = [[eneity['form'], eneity['label']] \n",
    "                for eneity in docu[\"labeling\"][\"entities\"]]\n",
    "\n",
    "    # 현재 document의 정보를 딕셔너리에 담고, 리스트에 추가\n",
    "    raw_dict = {\n",
    "        \"문서ID\": doc_id,\n",
    "        \"컨텐츠\": q_refiled,\n",
    "        \"개체\": entities\n",
    "    }\n",
    "    parsed_data.append(raw_dict)"
   ]
  },
  {
   "cell_type": "code",
   "execution_count": 3,
   "metadata": {},
   "outputs": [
    {
     "data": {
      "text/html": [
       "<div>\n",
       "<style scoped>\n",
       "    .dataframe tbody tr th:only-of-type {\n",
       "        vertical-align: middle;\n",
       "    }\n",
       "\n",
       "    .dataframe tbody tr th {\n",
       "        vertical-align: top;\n",
       "    }\n",
       "\n",
       "    .dataframe thead th {\n",
       "        text-align: right;\n",
       "    }\n",
       "</style>\n",
       "<table border=\"1\" class=\"dataframe\">\n",
       "  <thead>\n",
       "    <tr style=\"text-align: right;\">\n",
       "      <th></th>\n",
       "      <th>문서ID</th>\n",
       "      <th>컨텐츠</th>\n",
       "      <th>개체</th>\n",
       "    </tr>\n",
       "  </thead>\n",
       "  <tbody>\n",
       "    <tr>\n",
       "      <th>0</th>\n",
       "      <td>B3-2</td>\n",
       "      <td>의창구 #@주소# 놀이기구가 많이 부식되어서 조치가 필요해 보입니다. 확인 후 처리...</td>\n",
       "      <td>[[의창구, LOC]]</td>\n",
       "    </tr>\n",
       "    <tr>\n",
       "      <th>1</th>\n",
       "      <td>B3-3</td>\n",
       "      <td>의창구 #@주소# 놀이기구 부식 상태가 심하네요. 관리가 필요해 보입니다.</td>\n",
       "      <td>[[의창구, LOC]]</td>\n",
       "    </tr>\n",
       "    <tr>\n",
       "      <th>2</th>\n",
       "      <td>B3-4</td>\n",
       "      <td>부식 상태가 심각한 놀이기구가 있으니 조치 바랍니다. 위치는 의창구 #@주소#입니다.</td>\n",
       "      <td>[[의창구, LOC]]</td>\n",
       "    </tr>\n",
       "    <tr>\n",
       "      <th>3</th>\n",
       "      <td>B6-0</td>\n",
       "      <td>의창구 #@주소# 인근 놀이터 입구 쇠 막대 돌출, 철제 돌출에 대하여 제거 요청합니다.</td>\n",
       "      <td>[[의창구, LOC]]</td>\n",
       "    </tr>\n",
       "    <tr>\n",
       "      <th>4</th>\n",
       "      <td>B6-1</td>\n",
       "      <td>쇠 막대와 철제 돌출에 대하여 제거 부탁드립니다. 위치는 의창구 #@주소# 인근 놀...</td>\n",
       "      <td>[[의창구, LOC]]</td>\n",
       "    </tr>\n",
       "    <tr>\n",
       "      <th>...</th>\n",
       "      <td>...</td>\n",
       "      <td>...</td>\n",
       "      <td>...</td>\n",
       "    </tr>\n",
       "    <tr>\n",
       "      <th>93742</th>\n",
       "      <td>C49993-3</td>\n",
       "      <td>성산구 양곡삼거리-두산볼보로삼거리 방향 도로 장애물 처리 바랍니다.</td>\n",
       "      <td>[[성산구, LOC], [양곡삼거리, AFW], [두산볼보로삼거리, AFW]]</td>\n",
       "    </tr>\n",
       "    <tr>\n",
       "      <th>93743</th>\n",
       "      <td>C49993-4</td>\n",
       "      <td>성산구 양곡삼거리-두산볼보로삼거리 방향 도로 장애물 처리해 주시기 바랍니다.</td>\n",
       "      <td>[[성산구, LOC], [양곡삼거리, AFW], [두산볼보로삼거리, AFW]]</td>\n",
       "    </tr>\n",
       "    <tr>\n",
       "      <th>93744</th>\n",
       "      <td>C49998-2</td>\n",
       "      <td>의창구 #@주소#의 도로공사 부서 담당자 통화요청합니다.</td>\n",
       "      <td>[[의창구, LOC]]</td>\n",
       "    </tr>\n",
       "    <tr>\n",
       "      <th>93745</th>\n",
       "      <td>C49998-3</td>\n",
       "      <td>의창구 #@주소#의 도로공사는 언제까지 합니까?</td>\n",
       "      <td>[[의창구, LOC]]</td>\n",
       "    </tr>\n",
       "    <tr>\n",
       "      <th>93746</th>\n",
       "      <td>C49998-4</td>\n",
       "      <td>의창구 #@주소#의 도로공사때문에 통행에 불편합니다.</td>\n",
       "      <td>[[의창구, LOC]]</td>\n",
       "    </tr>\n",
       "  </tbody>\n",
       "</table>\n",
       "<p>93747 rows × 3 columns</p>\n",
       "</div>"
      ],
      "text/plain": [
       "           문서ID                                                컨텐츠  \\\n",
       "0          B3-2  의창구 #@주소# 놀이기구가 많이 부식되어서 조치가 필요해 보입니다. 확인 후 처리...   \n",
       "1          B3-3          의창구 #@주소# 놀이기구 부식 상태가 심하네요. 관리가 필요해 보입니다.   \n",
       "2          B3-4    부식 상태가 심각한 놀이기구가 있으니 조치 바랍니다. 위치는 의창구 #@주소#입니다.   \n",
       "3          B6-0  의창구 #@주소# 인근 놀이터 입구 쇠 막대 돌출, 철제 돌출에 대하여 제거 요청합니다.   \n",
       "4          B6-1  쇠 막대와 철제 돌출에 대하여 제거 부탁드립니다. 위치는 의창구 #@주소# 인근 놀...   \n",
       "...         ...                                                ...   \n",
       "93742  C49993-3              성산구 양곡삼거리-두산볼보로삼거리 방향 도로 장애물 처리 바랍니다.   \n",
       "93743  C49993-4         성산구 양곡삼거리-두산볼보로삼거리 방향 도로 장애물 처리해 주시기 바랍니다.   \n",
       "93744  C49998-2                    의창구 #@주소#의 도로공사 부서 담당자 통화요청합니다.   \n",
       "93745  C49998-3                         의창구 #@주소#의 도로공사는 언제까지 합니까?   \n",
       "93746  C49998-4                      의창구 #@주소#의 도로공사때문에 통행에 불편합니다.   \n",
       "\n",
       "                                                개체  \n",
       "0                                     [[의창구, LOC]]  \n",
       "1                                     [[의창구, LOC]]  \n",
       "2                                     [[의창구, LOC]]  \n",
       "3                                     [[의창구, LOC]]  \n",
       "4                                     [[의창구, LOC]]  \n",
       "...                                            ...  \n",
       "93742  [[성산구, LOC], [양곡삼거리, AFW], [두산볼보로삼거리, AFW]]  \n",
       "93743  [[성산구, LOC], [양곡삼거리, AFW], [두산볼보로삼거리, AFW]]  \n",
       "93744                                 [[의창구, LOC]]  \n",
       "93745                                 [[의창구, LOC]]  \n",
       "93746                                 [[의창구, LOC]]  \n",
       "\n",
       "[93747 rows x 3 columns]"
      ]
     },
     "metadata": {},
     "output_type": "display_data"
    }
   ],
   "source": [
    "import pandas as pd\n",
    "\n",
    "# 파싱이 완료된 데이터를 Dataframe 형식으로 변환\n",
    "raw_data = pd.DataFrame(parsed_data)\n",
    "display(raw_data)"
   ]
  },
  {
   "cell_type": "code",
   "execution_count": 4,
   "metadata": {},
   "outputs": [
    {
     "data": {
      "text/html": [
       "<div>\n",
       "<style scoped>\n",
       "    .dataframe tbody tr th:only-of-type {\n",
       "        vertical-align: middle;\n",
       "    }\n",
       "\n",
       "    .dataframe tbody tr th {\n",
       "        vertical-align: top;\n",
       "    }\n",
       "\n",
       "    .dataframe thead th {\n",
       "        text-align: right;\n",
       "    }\n",
       "</style>\n",
       "<table border=\"1\" class=\"dataframe\">\n",
       "  <thead>\n",
       "    <tr style=\"text-align: right;\">\n",
       "      <th></th>\n",
       "      <th>문서ID</th>\n",
       "      <th>컨텐츠</th>\n",
       "      <th>개체</th>\n",
       "    </tr>\n",
       "  </thead>\n",
       "  <tbody>\n",
       "    <tr>\n",
       "      <th>0</th>\n",
       "      <td>B3-2</td>\n",
       "      <td>의창구 #@주소# 놀이기구가 많이 부식되어서 조치가 필요해 보입니다. 확인 후 처리...</td>\n",
       "      <td>[[의창구, LOC]]</td>\n",
       "    </tr>\n",
       "    <tr>\n",
       "      <th>1</th>\n",
       "      <td>B3-3</td>\n",
       "      <td>의창구 #@주소# 놀이기구 부식 상태가 심하네요. 관리가 필요해 보입니다.</td>\n",
       "      <td>[[의창구, LOC]]</td>\n",
       "    </tr>\n",
       "    <tr>\n",
       "      <th>2</th>\n",
       "      <td>B3-4</td>\n",
       "      <td>부식 상태가 심각한 놀이기구가 있으니 조치 바랍니다. 위치는 의창구 #@주소#입니다.</td>\n",
       "      <td>[[의창구, LOC]]</td>\n",
       "    </tr>\n",
       "    <tr>\n",
       "      <th>3</th>\n",
       "      <td>B6-0</td>\n",
       "      <td>의창구 #@주소# 인근 놀이터 입구 쇠 막대 돌출, 철제 돌출에 대하여 제거 요청합니다.</td>\n",
       "      <td>[[의창구, LOC]]</td>\n",
       "    </tr>\n",
       "    <tr>\n",
       "      <th>4</th>\n",
       "      <td>B6-1</td>\n",
       "      <td>쇠 막대와 철제 돌출에 대하여 제거 부탁드립니다. 위치는 의창구 #@주소# 인근 놀...</td>\n",
       "      <td>[[의창구, LOC]]</td>\n",
       "    </tr>\n",
       "    <tr>\n",
       "      <th>...</th>\n",
       "      <td>...</td>\n",
       "      <td>...</td>\n",
       "      <td>...</td>\n",
       "    </tr>\n",
       "    <tr>\n",
       "      <th>93374</th>\n",
       "      <td>C49993-3</td>\n",
       "      <td>성산구 양곡삼거리-두산볼보로삼거리 방향 도로 장애물 처리 바랍니다.</td>\n",
       "      <td>[[성산구, LOC], [양곡삼거리, AFW], [두산볼보로삼거리, AFW]]</td>\n",
       "    </tr>\n",
       "    <tr>\n",
       "      <th>93375</th>\n",
       "      <td>C49993-4</td>\n",
       "      <td>성산구 양곡삼거리-두산볼보로삼거리 방향 도로 장애물 처리해 주시기 바랍니다.</td>\n",
       "      <td>[[성산구, LOC], [양곡삼거리, AFW], [두산볼보로삼거리, AFW]]</td>\n",
       "    </tr>\n",
       "    <tr>\n",
       "      <th>93376</th>\n",
       "      <td>C49998-2</td>\n",
       "      <td>의창구 #@주소#의 도로공사 부서 담당자 통화요청합니다.</td>\n",
       "      <td>[[의창구, LOC]]</td>\n",
       "    </tr>\n",
       "    <tr>\n",
       "      <th>93377</th>\n",
       "      <td>C49998-3</td>\n",
       "      <td>의창구 #@주소#의 도로공사는 언제까지 합니까?</td>\n",
       "      <td>[[의창구, LOC]]</td>\n",
       "    </tr>\n",
       "    <tr>\n",
       "      <th>93378</th>\n",
       "      <td>C49998-4</td>\n",
       "      <td>의창구 #@주소#의 도로공사때문에 통행에 불편합니다.</td>\n",
       "      <td>[[의창구, LOC]]</td>\n",
       "    </tr>\n",
       "  </tbody>\n",
       "</table>\n",
       "<p>93379 rows × 3 columns</p>\n",
       "</div>"
      ],
      "text/plain": [
       "           문서ID                                                컨텐츠  \\\n",
       "0          B3-2  의창구 #@주소# 놀이기구가 많이 부식되어서 조치가 필요해 보입니다. 확인 후 처리...   \n",
       "1          B3-3          의창구 #@주소# 놀이기구 부식 상태가 심하네요. 관리가 필요해 보입니다.   \n",
       "2          B3-4    부식 상태가 심각한 놀이기구가 있으니 조치 바랍니다. 위치는 의창구 #@주소#입니다.   \n",
       "3          B6-0  의창구 #@주소# 인근 놀이터 입구 쇠 막대 돌출, 철제 돌출에 대하여 제거 요청합니다.   \n",
       "4          B6-1  쇠 막대와 철제 돌출에 대하여 제거 부탁드립니다. 위치는 의창구 #@주소# 인근 놀...   \n",
       "...         ...                                                ...   \n",
       "93374  C49993-3              성산구 양곡삼거리-두산볼보로삼거리 방향 도로 장애물 처리 바랍니다.   \n",
       "93375  C49993-4         성산구 양곡삼거리-두산볼보로삼거리 방향 도로 장애물 처리해 주시기 바랍니다.   \n",
       "93376  C49998-2                    의창구 #@주소#의 도로공사 부서 담당자 통화요청합니다.   \n",
       "93377  C49998-3                         의창구 #@주소#의 도로공사는 언제까지 합니까?   \n",
       "93378  C49998-4                      의창구 #@주소#의 도로공사때문에 통행에 불편합니다.   \n",
       "\n",
       "                                                개체  \n",
       "0                                     [[의창구, LOC]]  \n",
       "1                                     [[의창구, LOC]]  \n",
       "2                                     [[의창구, LOC]]  \n",
       "3                                     [[의창구, LOC]]  \n",
       "4                                     [[의창구, LOC]]  \n",
       "...                                            ...  \n",
       "93374  [[성산구, LOC], [양곡삼거리, AFW], [두산볼보로삼거리, AFW]]  \n",
       "93375  [[성산구, LOC], [양곡삼거리, AFW], [두산볼보로삼거리, AFW]]  \n",
       "93376                                 [[의창구, LOC]]  \n",
       "93377                                 [[의창구, LOC]]  \n",
       "93378                                 [[의창구, LOC]]  \n",
       "\n",
       "[93379 rows x 3 columns]"
      ]
     },
     "metadata": {},
     "output_type": "display_data"
    }
   ],
   "source": [
    "# 데이터 및 텍스트 전처리 함수를 모듈화 시킨 파일\n",
    "from NLP_pp import *\n",
    "# 데이터셋읜 결측치 & 중복치 제거 함수 실행\n",
    "raw_data = df_cleaning(raw_data, '컨텐츠')\n",
    "display(raw_data)"
   ]
  },
  {
   "cell_type": "code",
   "execution_count": 5,
   "metadata": {},
   "outputs": [],
   "source": [
    "import re\n",
    "\n",
    "# 한글, 영어(소문자, 대문자), 숫자\n",
    "p1 = re.compile(r'[^가-힣a-zA-Z0-9\\s]')\n",
    "# 개행문자 + 하나 이상의 공백문자\n",
    "p2 = re.compile(r'\\n|\\s+')\n",
    "# 영어 대문자만 있는 경우를 감지하는 정규표현식 패턴\n",
    "p999 = re.compile(r'^[A-Z]+$')\n",
    "\n",
    "def regex_sub(origin_sent):\n",
    "    clean_text = p1.sub(repl=\" \", string=origin_sent)\n",
    "    clean_text = p2.sub(\" \", clean_text)\n",
    "    return clean_text\n",
    "\n",
    "# [개체:태그]데이터는 리스트 형식이라서 위 함수를 콜백으로 사용함\n",
    "def list_regex_sub(origin_list):\n",
    "    return [[regex_sub(entity), label] for entity, label in origin_list]\n",
    "\n",
    "def clean_tags(entity_list):\n",
    "    # 각 [개체명, 태그] 쌍을 검사하여 태그가 영어 대문자 외 단어가 포함된 경우\n",
    "    # 이 태그는 오염된 태그이니 [개체명, 오염된 태그] 리스트 자체를 제거\n",
    "    cleaned_list = [[entity, tag] for entity, tag in entity_list if p999.match(tag)]\n",
    "    return cleaned_list"
   ]
  },
  {
   "cell_type": "code",
   "execution_count": 6,
   "metadata": {},
   "outputs": [],
   "source": [
    "# 설계한 정규표현식기반 특수문자 삭제 함수 적용\n",
    "# apply함수는 inplace=True(덮어쓰기) 기능이 없음\n",
    "raw_data['컨텐츠'] = raw_data['컨텐츠'].apply(regex_sub)\n",
    "raw_data['개체'] = raw_data['개체'].apply(list_regex_sub)\n",
    "\n",
    "# 태그 항목에서 오염된 태그 항목을 제거하는 함수 구동\n",
    "raw_data['개체'] = raw_data['개체'].apply(clean_tags)"
   ]
  },
  {
   "cell_type": "code",
   "execution_count": 7,
   "metadata": {},
   "outputs": [],
   "source": [
    "# 데이터프레임의 항목을 분리 후 리스트 타입으로 변경\n",
    "raw_x_data = raw_data['컨텐츠'].values.tolist()\n",
    "# 개체 : 개체 라벨링 의 태그 정보는 따로 추출한다.\n",
    "tag_data = raw_data['개체'].values.tolist()"
   ]
  },
  {
   "cell_type": "code",
   "execution_count": 8,
   "metadata": {},
   "outputs": [],
   "source": [
    "from mecab import MeCab #한글 단어 토크나이저\n",
    "from tqdm import tqdm\n",
    "\n",
    "#mecab 형태소 분석기 인스턴스화\n",
    "word_tokenizer = MeCab()"
   ]
  },
  {
   "cell_type": "code",
   "execution_count": 9,
   "metadata": {},
   "outputs": [
    {
     "name": "stderr",
     "output_type": "stream",
     "text": [
      "토큰화 진행 중: 100%|██████████| 93379/93379 [00:14<00:00, 6430.69it/s]\n",
      "BIO 태깅 진행 중: 100%|██████████| 93379/93379 [00:05<00:00, 16898.89it/s]\n"
     ]
    }
   ],
   "source": [
    "# 토큰화 수행\n",
    "tokenized_x_data = tokenize(raw_x_data, word_tokenizer)\n",
    "# BIO 태깅 방법론으로 태깅처리된 y데이터와 태깅 검증을 위한 데이터(token_tag) 두개 반환\n",
    "tagged_y_label, token_tag_data = BIO_tagging(tokenized_x_data, tag_data, word_tokenizer)"
   ]
  },
  {
   "cell_type": "code",
   "execution_count": 10,
   "metadata": {},
   "outputs": [
    {
     "name": "stdout",
     "output_type": "stream",
     "text": [
      "원문 데이터 raw_x : 자동차 과적 벌금 납부 관련 문의드립니다 \n",
      "토큰화 데이터(x)  : ['자동차', '과', '적', '벌금', '납부', '관련', '문', '의', '드립니다']\n",
      "태그 데이터(tag)  : [['자동차 ', 'AFW']]\n",
      "토큰 태그데이터   : [['자동차'], 'B-AFW']\n",
      "라벨링 데이터(y)  : ['B-AFW', 'O', 'O', 'O', 'O', 'O', 'O', 'O', 'O']\n"
     ]
    }
   ],
   "source": [
    "import random\n",
    "\n",
    "# 코드 검증을 임의로 반복하기 위해 랜덤으로 샘플링\n",
    "sample_idx = random.randint(0, len(tokenized_x_data)-1)\n",
    "val_BIO_tagging(raw_x_data, tokenized_x_data,\n",
    "                tag_data, token_tag_data,\n",
    "                tagged_y_label, sample_idx)"
   ]
  },
  {
   "cell_type": "code",
   "execution_count": 11,
   "metadata": {},
   "outputs": [],
   "source": [
    "from sklearn.model_selection import train_test_split\n",
    "\n",
    "# 훈련/검증/평가를 80%, 15%, 5%로 분할을 수행\n",
    "# random_state -> 데이터셋을 내누는데 '재현성' 유지를 위해 넣음 -> 안넣어도 됨\n",
    "# stratify -> y 클래스 비율을 알기 어렵기에 해당 항목은 없앰\n",
    "x_train, x_etc, y_train, y_etc = train_test_split(\n",
    "    tokenized_x_data, tagged_y_label, test_size=0.20\n",
    ")\n",
    "\n",
    "# 그 외 데이터셋을 반반으로 Val, Test로 나눔\n",
    "x_val, x_test, y_val, y_test = train_test_split(\n",
    "    x_etc, y_etc, test_size=0.25\n",
    ")"
   ]
  },
  {
   "cell_type": "code",
   "execution_count": 12,
   "metadata": {},
   "outputs": [
    {
     "name": "stdout",
     "output_type": "stream",
     "text": [
      "훈련 데이터셋 개수: 74703, 클래스 비율: 비율연산 불가 라벨데이터\n",
      "검증 데이터셋 개수: 14007, 클래스 비율: 비율연산 불가 라벨데이터\n",
      "평가 데이터셋 개수: 4669, 클래스 비율: 비율연산 불가 라벨데이터\n"
     ]
    }
   ],
   "source": [
    "val_class_ratio(x_train, y_train, '훈련')\n",
    "val_class_ratio(x_val, y_val, '검증')\n",
    "val_class_ratio(x_test, y_test, '평가')"
   ]
  },
  {
   "cell_type": "code",
   "execution_count": 13,
   "metadata": {},
   "outputs": [
    {
     "name": "stdout",
     "output_type": "stream",
     "text": [
      "단어장에 포함된 단어는 5343\n",
      "태깅된 항목 종류(class):\n",
      "O, B-AFW, I-AFW, B-ANM, I-ANM, \n",
      "B-CVL, I-CVL, B-DAT, I-DAT, B-EVT, \n",
      "I-EVT, B-FLD, I-FLD, B-LOC, I-LOC, \n",
      "B-LOT, I-LOT, B-MAT, I-MAT, B-ORG, \n",
      "I-ORG, B-ORT, I-ORT, B-PER, I-PER, \n",
      "B-PLT, I-PLT, B-QTT, I-QTT, B-THR, \n",
      "I-THR, B-TIM, I-TIM, B-TMR, B-TRM, \n",
      "I-TRM, "
     ]
    }
   ],
   "source": [
    "vocab, tags = set_vocab_label_forNER(tokenized_x_data, \n",
    "                                     tagged_y_label,\n",
    "                                     report=True)"
   ]
  },
  {
   "cell_type": "code",
   "execution_count": 14,
   "metadata": {},
   "outputs": [
    {
     "name": "stdout",
     "output_type": "stream",
     "text": [
      "단어장에 포함된 단어는 : 5327\n",
      "['O', 'B-AFW', 'I-AFW', 'B-ANM', 'I-ANM', 'B-CVL', 'I-CVL', 'B-DAT', 'I-DAT', 'B-EVT', 'I-EVT', 'B-FLD', 'I-FLD', 'B-LOC', 'I-LOC', 'B-LOT', 'I-LOT', 'B-MAT', 'I-MAT', 'B-ORG', 'I-ORG', 'B-ORT', 'I-ORT', 'B-PER', 'I-PER', 'B-PLT', 'I-PLT', 'B-QTT', 'I-QTT', 'B-THR', 'I-THR', 'B-TIM', 'I-TIM', 'B-TMR', 'B-TRM', 'I-TRM']\n"
     ]
    }
   ],
   "source": [
    "# 훈련/검증 데이터셋만 단어장 생성 및 클래스 종류 식별에 사용\n",
    "vocab_1, tag_1 = set_vocab_label_forNER(x_train, y_train)\n",
    "vocab_2, tag_2 = set_vocab_label_forNER(x_val, y_val)\n",
    "\n",
    "vocab = list(set(vocab_1 + vocab_2))\n",
    "tags = list(set(tag_1 + tag_2))\n",
    "\n",
    "# 훈련 검증 데이터셋만 포함시킨 단어장\n",
    "print(f\"단어장에 포함된 단어는 : {len(vocab)}\")\n",
    "# 태깅된 항목 종류 출력\n",
    "s_tags = sort_tags([tags])\n",
    "print(s_tags)"
   ]
  },
  {
   "cell_type": "code",
   "execution_count": 15,
   "metadata": {},
   "outputs": [
    {
     "name": "stdout",
     "output_type": "stream",
     "text": [
      "단어집합(vocab)은 word_to_idx를 통해서\n",
      "[단어 : idx]의 <class 'dict'>타입이 되고\n",
      "스페셜 토큰 <PAD> <UNK> 을 포함하여\n",
      "총 관리되는 단어 '5327' -> '5329'가 됨\n",
      "\n",
      "태그집합(tags)은 word_to_tag를 통해서\n",
      "[태그토큰 : idx]의 <class 'dict'>타입이 되고\n",
      "스페셜 태그토큰 <PAD> 을 포함하여\n",
      "총 관리되는 태그 '36' -> '37'가 됨\n"
     ]
    }
   ],
   "source": [
    "spec_x_token = ['<PAD>', '<UNK>'] # 스페셜 토큰(x)용 선언\n",
    "spec_y_tag = ['<PAD>'] # 스페셜 태깅토큰(y) 선언\n",
    "\n",
    "word_to_idx, idx_to_word = set_word_to_idx(spec_x_token, vocab, \n",
    "                                           report=True)\n",
    "print()\n",
    "tag_to_idx, idx_to_tag = set_word_to_idx(spec_y_tag, s_tags, \n",
    "                                           report=True, \n",
    "                                           content='태그')"
   ]
  },
  {
   "cell_type": "code",
   "execution_count": 16,
   "metadata": {},
   "outputs": [],
   "source": [
    "# x_data(원문)의 정수 인코딩 수행\n",
    "e_x_train = text_to_sequences(x_train, word_to_idx)\n",
    "e_x_val = text_to_sequences(x_val, word_to_idx)\n",
    "e_x_test = text_to_sequences(x_test, word_to_idx)\n",
    "\n",
    "# y_label(태그)의 정수 인코딩 수행\n",
    "e_y_train = text_to_sequences(y_train, tag_to_idx, spec_token='O')\n",
    "e_y_val = text_to_sequences(y_val, tag_to_idx, spec_token='O')\n",
    "e_y_test = text_to_sequences(y_test, tag_to_idx, spec_token='O')"
   ]
  },
  {
   "cell_type": "code",
   "execution_count": 17,
   "metadata": {},
   "outputs": [
    {
     "name": "stdout",
     "output_type": "stream",
     "text": [
      "토크나이징만 된 문장: ['주소', '부근', '고물', '을', '모아', '놓', '은', '곳', '바로', '뒤', '에', '도시', '가스', '배관', '이', '있', '어', '자칫', '화재', '라도', '나', '면', '큰', '사고', '로', '이어집니다', '현장', '단속', '반', '을', '통해', '정비', '및', '노상', '적치', '행위', '자', '에게', '계도', '조치', '해', '주', '시', '길', '요청', '합니다']\n",
      "정수인코딩 된 결과값: [3373, 4941, 3536, 4735, 3767, 1, 2746, 1979, 1, 2548, 3562, 427, 5065, 534, 2730, 4427, 1305, 1, 3756, 1, 4995, 2479, 2466, 2790, 3325, 1, 3987, 4308, 217, 4735, 1, 664, 3535, 3486, 4312, 1, 3451, 1, 1, 1953, 561, 1232, 3602, 3459, 3314, 1]\n",
      "디코드로 복원한 문장: ['주소', '부근', '고물', '을', '모아', '<UNK>', '은', '곳', '<UNK>', '뒤', '에', '도시', '가스', '배관', '이', '있', '어', '<UNK>', '화재', '<UNK>', '나', '면', '큰', '사고', '로', '<UNK>', '현장', '단속', '반', '을', '<UNK>', '정비', '및', '노상', '적치', '<UNK>', '자', '<UNK>', '<UNK>', '조치', '해', '주', '시', '길', '요청', '<UNK>']\n",
      "정수인코딩은 올바르게 진행됨\n",
      "\n",
      "토크나이징만 된 문장: ['O', 'O', 'O', 'O', 'O', 'O', 'O', 'O', 'O', 'O', 'O', 'O', 'O', 'O', 'O', 'O', 'O', 'O', 'O', 'O', 'O', 'O', 'O', 'O', 'O', 'O', 'O', 'O', 'O', 'O', 'O', 'O', 'O', 'O', 'O', 'O', 'O', 'O', 'O', 'O', 'O', 'O', 'O', 'O', 'O', 'O']\n",
      "정수인코딩 된 결과값: [1, 1, 1, 1, 1, 1, 1, 1, 1, 1, 1, 1, 1, 1, 1, 1, 1, 1, 1, 1, 1, 1, 1, 1, 1, 1, 1, 1, 1, 1, 1, 1, 1, 1, 1, 1, 1, 1, 1, 1, 1, 1, 1, 1, 1, 1]\n",
      "디코드로 복원한 문장: ['O', 'O', 'O', 'O', 'O', 'O', 'O', 'O', 'O', 'O', 'O', 'O', 'O', 'O', 'O', 'O', 'O', 'O', 'O', 'O', 'O', 'O', 'O', 'O', 'O', 'O', 'O', 'O', 'O', 'O', 'O', 'O', 'O', 'O', 'O', 'O', 'O', 'O', 'O', 'O', 'O', 'O', 'O', 'O', 'O', 'O']\n",
      "정수인코딩은 올바르게 진행됨\n"
     ]
    }
   ],
   "source": [
    "import random\n",
    "\n",
    "sample_idx = random.randint(0, len(e_x_train)-1)\n",
    "val_encode_decode(sample_idx, idx_to_word, x_train, e_x_train)\n",
    "print()\n",
    "val_encode_decode(sample_idx, idx_to_tag, y_train, e_y_train)"
   ]
  },
  {
   "cell_type": "code",
   "execution_count": 18,
   "metadata": {},
   "outputs": [
    {
     "name": "stdout",
     "output_type": "stream",
     "text": [
      "훈련 데이터셋 최대 길이: 437\n",
      "훈련 데이터셋 평균 길이: 22.81\n"
     ]
    },
    {
     "data": {
      "image/png": "[encoded data removed]",
      "text/plain": [
       "<Figure size 640x480 with 1 Axes>"
      ]
     },
     "metadata": {},
     "output_type": "display_data"
    },
    {
     "name": "stdout",
     "output_type": "stream",
     "text": [
      "데이터셋 문장 길이가 50 이하 데이터 비율: 95.43%\n"
     ]
    }
   ],
   "source": [
    "# 문서 당 시퀀스 길이를 정하는 하이퍼 파라미터\n",
    "context_length = 50\n",
    "set_sent_pad(e_x_train, context_length, report=True)"
   ]
  },
  {
   "cell_type": "code",
   "execution_count": 19,
   "metadata": {},
   "outputs": [],
   "source": [
    "# x_data(원문)의 문장 패딩(정수인코딩의 완료)\n",
    "padded_x_train = pad_seq_x(e_x_train, context_length)\n",
    "padded_x_val = pad_seq_x(e_x_val, context_length)\n",
    "padded_x_test = pad_seq_x(e_x_test, context_length)\n",
    "\n",
    "# y_label(태그)의 문장 패딩(정수인코딩의 완료)\n",
    "padded_y_train = pad_seq_x(e_y_train, context_length)\n",
    "padded_y_val = pad_seq_x(e_y_val, context_length)\n",
    "padded_y_test = pad_seq_x(e_y_test, context_length)"
   ]
  },
  {
   "cell_type": "code",
   "execution_count": 20,
   "metadata": {},
   "outputs": [
    {
     "name": "stdout",
     "output_type": "stream",
     "text": [
      "훈련용 정수(원핫)인코딩 shape: (74703, 50)\n",
      "검증용 정수(원핫)인코딩 shape: (14007, 50)\n",
      "평가용 정수(원핫)인코딩 shape: (4669, 50)\n",
      "\n",
      "훈련용 정수(원핫)인코딩 shape: (74703, 50)\n",
      "검증용 정수(원핫)인코딩 shape: (14007, 50)\n",
      "평가용 정수(원핫)인코딩 shape: (4669, 50)\n"
     ]
    }
   ],
   "source": [
    "val_pad_shape(padded_x_train, '훈련')\n",
    "val_pad_shape(padded_x_val, '검증')\n",
    "val_pad_shape(padded_x_test, '평가')\n",
    "print()\n",
    "val_pad_shape(padded_y_train, '훈련')\n",
    "val_pad_shape(padded_y_val, '검증')\n",
    "val_pad_shape(padded_y_test, '평가')"
   ]
  },
  {
   "cell_type": "code",
   "execution_count": 21,
   "metadata": {},
   "outputs": [
    {
     "name": "stdout",
     "output_type": "stream",
     "text": [
      "훈련용 X(인코딩)데이터 크기: [74703, 50]\n",
      "훈련용 Y(Label)데이터 크기: [74703, 50]\n",
      "검증용 X(인코딩)데이터 크기: [14007, 50]\n",
      "검증용 Y(Label)데이터 크기: [14007, 50]\n",
      "평가용 X(인코딩)데이터 크기: [4669, 50]\n",
      "평가용 Y(Label)데이터 크기: [4669, 50]\n"
     ]
    }
   ],
   "source": [
    "import torch\n",
    "bs = 256 # Batch_size 하이퍼 파라미터\n",
    "\n",
    "# 정수(원핫)인코딩 데이터를 데이터로더로 변환\n",
    "trainloader = set_dataloader(padded_x_train, padded_y_train, bs, \n",
    "                             content='훈련', report=True)\n",
    "valloader = set_dataloader(padded_x_val, padded_y_val, bs,\n",
    "                           content='검증', report=True)\n",
    "testloader = set_dataloader(padded_x_test, padded_y_test, bs, \n",
    "                            content='평가', report=True)"
   ]
  },
  {
   "cell_type": "code",
   "execution_count": 22,
   "metadata": {},
   "outputs": [
    {
     "name": "stdout",
     "output_type": "stream",
     "text": [
      "+-------------------+--------+\n",
      "| 하이퍼 파라미터   | 값     |\n",
      "+===================+========+\n",
      "| 태그 처리된 단어  | 5329개 |\n",
      "+-------------------+--------+\n",
      "| 문장 최대 길이    | 50     |\n",
      "+-------------------+--------+\n",
      "| 임베딩 차원       | 100    |\n",
      "+-------------------+--------+\n",
      "| 총 태그 종류      | 37종   |\n",
      "+-------------------+--------+\n",
      "| 언어 모델 층수    | 2층    |\n",
      "+-------------------+--------+\n",
      "| 히든 레이어 너비  | 500    |\n",
      "+-------------------+--------+\n"
     ]
    }
   ],
   "source": [
    "# 주요 하이퍼 파라미터 정리\n",
    "VOCAB_SIZE = len(word_to_idx)\n",
    "CONTEXT_LEN = context_length\n",
    "EMB_DIM = 100 # 임베딩 차원은 100으로\n",
    "NUM_Tags = len(tag_to_idx)\n",
    "NUM_Layers = 2 #셀의 레이어는 1층이 아니라 2층으로\n",
    "HIDE_DIM = 500\n",
    "\n",
    "from tabulate import tabulate\n",
    "\n",
    "# 출력할 데이터를 리스트 형식으로 준비\n",
    "data = [\n",
    "    [\"태그 처리된 단어\", f\"{VOCAB_SIZE}개\"],\n",
    "    [\"문장 최대 길이\", CONTEXT_LEN],\n",
    "    [\"임베딩 차원\", EMB_DIM],\n",
    "    [\"총 태그 종류\", f\"{NUM_Tags}종\"],\n",
    "    [\"언어 모델 층수\", f\"{NUM_Layers}층\"],\n",
    "    [\"히든 레이어 너비\", HIDE_DIM]\n",
    "]\n",
    "\n",
    "# 표 형식으로 출력\n",
    "print(tabulate(data, headers=[\"하이퍼 파라미터\", \"값\"], \n",
    "               tablefmt=\"grid\"))"
   ]
  },
  {
   "cell_type": "code",
   "execution_count": 23,
   "metadata": {},
   "outputs": [],
   "source": [
    "import torch.nn as nn\n",
    "\n",
    "class NERTagger_LSTM(nn.Module):\n",
    "    def __init__(self, vocab_size, embed_dim, tag_dim,\n",
    "                 hid_dim, num_layers, emb_matirx=None):\n",
    "        super(NERTagger_LSTM, self).__init__()\n",
    "\n",
    "        self.embed = nn.Embedding(vocab_size, embed_dim)\n",
    "        # 사전훈련 임베딩 사용 유/무 함수\n",
    "        if emb_matirx is not None:\n",
    "            self.embed.weight = nn.Parameter(\n",
    "                torch.tensor(emb_matirx, dtype=torch.float32))\n",
    "            self.embed.weight.requires_grad = True\n",
    "\n",
    "        self.lstm = nn.LSTM(input_size=embed_dim, # LSTM에 입력차원\n",
    "                            hidden_size=hid_dim, # LSTM의 출력차원\n",
    "                            num_layers=num_layers, # 내부 Cell 몇층?\n",
    "                            bidirectional=True, #양방향 학습 옵션 On\n",
    "                            batch_first=True) # 입력텐서 -> batch가 맨처음\n",
    "        \n",
    "        # 최종적으로 tag 종류를 맟추는 FC layer\n",
    "        # 양방향 연산이기에 FC_layer에 입력되는 feature는 2배로 늘어난다\n",
    "        self.classifier = nn.Sequential(\n",
    "            nn.Linear(hid_dim*2, tag_dim),\n",
    "        )\n",
    "\n",
    "    def forward(self, x):\n",
    "        # 입력 x : batch_size, seq_length\n",
    "        emb = self.embed(x) # (batch_size, seq_length, embedding_dim)\n",
    "        # 양방향 학습 On이기에\n",
    "        # lstm_out : (bs, seq_len, hidden_dim * 2)\n",
    "        # hidden = (num_layer * 2, bs, hidden_dim)\n",
    "        lstm_out, (hidden, cell) = self.lstm(emb)\n",
    "\n",
    "        # many-to-many 방식이니까 lstm_out을 사용한다.\n",
    "        logits = self.classifier(lstm_out)\n",
    "        # logits 출력 : (bs, seq_len, tag_dim)\n",
    "        return logits"
   ]
  },
  {
   "cell_type": "code",
   "execution_count": 24,
   "metadata": {},
   "outputs": [],
   "source": [
    "import torch.nn as nn\n",
    "\n",
    "class NERTagger_GRU(nn.Module):\n",
    "    def __init__(self, vocab_size, embed_dim, tag_dim,\n",
    "                 hid_dim, num_layers, emb_matirx=None):\n",
    "        super(NERTagger_GRU, self).__init__()\n",
    "\n",
    "        self.embed = nn.Embedding(vocab_size, embed_dim)\n",
    "        # 사전훈련 임베딩 사용 유/무 함수\n",
    "        if emb_matirx is not None:\n",
    "            self.embed.weight = nn.Parameter(\n",
    "                torch.tensor(emb_matirx, dtype=torch.float32))\n",
    "            self.embed.weight.requires_grad = True\n",
    "\n",
    "        self.gru = nn.GRU(input_size=embed_dim, # GRU에 입력차원\n",
    "                            hidden_size=hid_dim, # GRU의 출력차원\n",
    "                            num_layers=num_layers, # 내부 Cell 몇층?\n",
    "                            bidirectional=True, #양방향 학습 옵션 On\n",
    "                            batch_first=True) # 입력텐서 -> batch가 맨처음\n",
    "        \n",
    "        # 최종적으로 tag 종류를 맟추는 FC layer\n",
    "        # 양방향 연산이기에 FC_layer에 입력되는 feature는 2배로 늘어난다\n",
    "        self.classifier = nn.Sequential(\n",
    "            nn.Linear(hid_dim*2, tag_dim),\n",
    "        )\n",
    "\n",
    "    def forward(self, x):\n",
    "        # 입력 x : batch_size, seq_length\n",
    "        emb = self.embed(x) # (batch_size, seq_length, embedding_dim)\n",
    "        # 양방향 학습 On이기에\n",
    "        # gru_out : (bs, seq_len, hidden_dim * 2)\n",
    "        # hidden = (num_layer * 2, bs, hidden_dim)\n",
    "        gru_out, hidden = self.gru(emb)\n",
    "\n",
    "        # many-to-many 방식이니까 gru_out을 사용한다.\n",
    "        logits = self.classifier(gru_out)\n",
    "        # logits 출력 : (bs, seq_len, tag_dim)\n",
    "        return logits"
   ]
  },
  {
   "cell_type": "code",
   "execution_count": 25,
   "metadata": {},
   "outputs": [],
   "source": [
    "# 학습 실험 조건을 구분하기 위한 키\n",
    "model_key = ['LSTM', 'GRU']\n",
    "metrics_key = ['Loss', '정확도']"
   ]
  },
  {
   "cell_type": "code",
   "execution_count": 26,
   "metadata": {},
   "outputs": [],
   "source": [
    "# 모델 선언\n",
    "Lstm_tagger = NERTagger_LSTM(VOCAB_SIZE, EMB_DIM, NUM_Tags,\n",
    "                             HIDE_DIM, NUM_Layers)\n",
    "Gru_tagger = NERTagger_GRU(VOCAB_SIZE, EMB_DIM, NUM_Tags,\n",
    "                             HIDE_DIM, NUM_Layers)"
   ]
  },
  {
   "cell_type": "code",
   "execution_count": 27,
   "metadata": {},
   "outputs": [],
   "source": [
    "# GPU사용 가능 유/무 확인\n",
    "device = torch.device(\"cuda\" if torch.cuda.is_available() else 'cpu')\n",
    "models = {} # 딕셔너리\n",
    "\n",
    "models[model_key[0]] = Lstm_tagger.to(device)\n",
    "models[model_key[1]] = Gru_tagger.to(device)"
   ]
  },
  {
   "cell_type": "code",
   "execution_count": 28,
   "metadata": {},
   "outputs": [],
   "source": [
    "import torch.optim as optim\n",
    "# 로스함수 및 옵티마이저 설계\n",
    "# 로스함수에서 <PAD> 토큰의 정수인덱스 번호 -> 0번에 대해서는\n",
    "# 틀리건 맞건 무시하겠다 : ignore_index에 해당 정수 인덱스 번호 기입\n",
    "ignore_class_idx = 0\n",
    "criterion = nn.CrossEntropyLoss(ignore_index=ignore_class_idx)\n",
    "\n",
    "LR = 0.001 # 러닝레이트는 통일\n",
    "optimizers = {}\n",
    "\n",
    "optimizers[model_key[0]] = optim.Adam(Lstm_tagger.parameters(), lr=LR)\n",
    "optimizers[model_key[1]] = optim.Adam(Gru_tagger.parameters(), lr=LR)"
   ]
  },
  {
   "cell_type": "code",
   "execution_count": 29,
   "metadata": {},
   "outputs": [],
   "source": [
    "# 학습/검증 정보 저장\n",
    "history = {key: {metric: [] \n",
    "                for metric in metrics_key} \n",
    "           for key in model_key}"
   ]
  },
  {
   "cell_type": "code",
   "execution_count": 30,
   "metadata": {},
   "outputs": [],
   "source": [
    "# 사전에 모듈화 한 학습/검증용 라이브러리 import\n",
    "from Ner_Trainer import *\n",
    "\n",
    "num_epoch = 8 #총 훈련/검증 epoch값\n",
    "ES = 2 # 디스플레이용 에포크 스텝"
   ]
  },
  {
   "cell_type": "code",
   "execution_count": 31,
   "metadata": {},
   "outputs": [
    {
     "name": "stdout",
     "output_type": "stream",
     "text": [
      "\n",
      "--현재 훈련중인 조건: [['LSTM']]--\n"
     ]
    },
    {
     "name": "stderr",
     "output_type": "stream",
     "text": [
      "[훈련중]로스: 0.351, 정확도: 0.916: 100%|██████████| 292/292 [00:07<00:00, 40.13it/s]\n",
      "100%|██████████| 55/55 [00:00<00:00, 116.23it/s]\n"
     ]
    },
    {
     "name": "stdout",
     "output_type": "stream",
     "text": [
      "epoch 001,\t훈련 [Loss: 0.351, Acc: 91.58%]\n",
      "epoch 001,\t검증 [Loss: 0.213, Acc: 93.56%]\n"
     ]
    },
    {
     "name": "stderr",
     "output_type": "stream",
     "text": [
      "[훈련중]로스: 0.181, 정확도: 0.944: 100%|██████████| 292/292 [00:06<00:00, 45.67it/s]\n",
      "100%|██████████| 55/55 [00:00<00:00, 122.21it/s]\n"
     ]
    },
    {
     "name": "stdout",
     "output_type": "stream",
     "text": [
      "epoch 002,\t훈련 [Loss: 0.181, Acc: 94.37%]\n",
      "epoch 002,\t검증 [Loss: 0.161, Acc: 94.89%]\n"
     ]
    },
    {
     "name": "stderr",
     "output_type": "stream",
     "text": [
      "[훈련중]로스: 0.091, 정확도: 0.972: 100%|██████████| 292/292 [00:06<00:00, 46.62it/s]\n",
      "100%|██████████| 55/55 [00:00<00:00, 60.60it/s]\n"
     ]
    },
    {
     "name": "stdout",
     "output_type": "stream",
     "text": [
      "epoch 004,\t훈련 [Loss: 0.091, Acc: 97.17%]\n",
      "epoch 004,\t검증 [Loss: 0.101, Acc: 96.89%]\n"
     ]
    },
    {
     "name": "stderr",
     "output_type": "stream",
     "text": [
      "[훈련중]로스: 0.037, 정확도: 0.989: 100%|██████████| 292/292 [00:06<00:00, 47.35it/s]\n",
      "100%|██████████| 55/55 [00:00<00:00, 122.28it/s]\n"
     ]
    },
    {
     "name": "stdout",
     "output_type": "stream",
     "text": [
      "epoch 006,\t훈련 [Loss: 0.037, Acc: 98.93%]\n",
      "epoch 006,\t검증 [Loss: 0.073, Acc: 97.98%]\n"
     ]
    },
    {
     "name": "stderr",
     "output_type": "stream",
     "text": [
      "[훈련중]로스: 0.015, 정확도: 0.996: 100%|██████████| 292/292 [00:06<00:00, 47.43it/s]\n",
      "100%|██████████| 55/55 [00:00<00:00, 120.01it/s]\n"
     ]
    },
    {
     "name": "stdout",
     "output_type": "stream",
     "text": [
      "epoch 008,\t훈련 [Loss: 0.015, Acc: 99.59%]\n",
      "epoch 008,\t검증 [Loss: 0.071, Acc: 98.38%]\n",
      "--조건[['LSTM']] 훈련 종료--\n",
      "\n",
      "\n",
      "--현재 훈련중인 조건: [['GRU']]--\n"
     ]
    },
    {
     "name": "stderr",
     "output_type": "stream",
     "text": [
      "[훈련중]로스: 0.307, 정확도: 0.921: 100%|██████████| 292/292 [00:05<00:00, 51.26it/s]\n",
      "100%|██████████| 55/55 [00:00<00:00, 135.83it/s]\n"
     ]
    },
    {
     "name": "stdout",
     "output_type": "stream",
     "text": [
      "epoch 001,\t훈련 [Loss: 0.307, Acc: 92.11%]\n",
      "epoch 001,\t검증 [Loss: 0.201, Acc: 93.79%]\n"
     ]
    },
    {
     "name": "stderr",
     "output_type": "stream",
     "text": [
      "[훈련중]로스: 0.168, 정확도: 0.947: 100%|██████████| 292/292 [00:05<00:00, 50.25it/s]\n",
      "100%|██████████| 55/55 [00:00<00:00, 129.09it/s]\n"
     ]
    },
    {
     "name": "stdout",
     "output_type": "stream",
     "text": [
      "epoch 002,\t훈련 [Loss: 0.168, Acc: 94.67%]\n",
      "epoch 002,\t검증 [Loss: 0.154, Acc: 95.11%]\n"
     ]
    },
    {
     "name": "stderr",
     "output_type": "stream",
     "text": [
      "[훈련중]로스: 0.076, 정확도: 0.976: 100%|██████████| 292/292 [00:05<00:00, 51.14it/s]\n",
      "100%|██████████| 55/55 [00:00<00:00, 136.13it/s]\n"
     ]
    },
    {
     "name": "stdout",
     "output_type": "stream",
     "text": [
      "epoch 004,\t훈련 [Loss: 0.076, Acc: 97.64%]\n",
      "epoch 004,\t검증 [Loss: 0.089, Acc: 97.32%]\n"
     ]
    },
    {
     "name": "stderr",
     "output_type": "stream",
     "text": [
      "[훈련중]로스: 0.027, 정확도: 0.992: 100%|██████████| 292/292 [00:05<00:00, 51.03it/s]\n",
      "100%|██████████| 55/55 [00:00<00:00, 135.04it/s]\n"
     ]
    },
    {
     "name": "stdout",
     "output_type": "stream",
     "text": [
      "epoch 006,\t훈련 [Loss: 0.027, Acc: 99.19%]\n",
      "epoch 006,\t검증 [Loss: 0.066, Acc: 98.29%]\n"
     ]
    },
    {
     "name": "stderr",
     "output_type": "stream",
     "text": [
      "[훈련중]로스: 0.012, 정확도: 0.997: 100%|██████████| 292/292 [00:05<00:00, 50.71it/s]\n",
      "100%|██████████| 55/55 [00:00<00:00, 133.80it/s]"
     ]
    },
    {
     "name": "stdout",
     "output_type": "stream",
     "text": [
      "epoch 008,\t훈련 [Loss: 0.012, Acc: 99.68%]\n",
      "epoch 008,\t검증 [Loss: 0.064, Acc: 98.55%]\n",
      "--조건[['GRU']] 훈련 종료--\n",
      "\n"
     ]
    },
    {
     "name": "stderr",
     "output_type": "stream",
     "text": [
      "\n"
     ]
    }
   ],
   "source": [
    "for key in model_key:\n",
    "    print(f\"\\n--현재 훈련중인 조건: [{[key]}]--\") # 조건에 맞는 실험시작\n",
    "    for epoch in range(num_epoch): #에포크별 모델 훈련/검증\n",
    "        # 모델 훈련\n",
    "        train_loss, train_acc = model_train(\n",
    "            models[key], trainloader,\n",
    "            optimizers[key], epoch, ES,\n",
    "            loss_fn=criterion,\n",
    "            ignore_class=ignore_class_idx #무시할 클래스 인덱스\n",
    "        ) #모델 검증\n",
    "\n",
    "        val_loss, val_acc = model_evaluate(\n",
    "            models[key], valloader, epoch, ES, \n",
    "            loss_fn=criterion,\n",
    "            ignore_class=ignore_class_idx #무시할 클래스 인덱스\n",
    "        )\n",
    "\n",
    "        # 손실 및 성과 지표를 history에 저장\n",
    "        history[key]['Loss'].append((train_loss, val_loss))\n",
    "        history[key]['정확도'].append((train_acc, val_acc))\n",
    "\n",
    "        # Epoch_step(ES)일 때마다 print수행\n",
    "        if (epoch+1) % ES == 0 or epoch == 0:\n",
    "            print(f\"epoch {epoch+1:03d},\" + \"\\t\" + \n",
    "                f\"훈련 [Loss: {train_loss:.3f}, \" +\n",
    "                f\"Acc: {train_acc*100:.2f}%]\")\n",
    "            print(f\"epoch {epoch+1:03d},\" + \"\\t\" + \n",
    "                f\"검증 [Loss: {val_loss:.3f}, \" +\n",
    "                f\"Acc: {val_acc*100:.2f}%]\")\n",
    "    print(f\"--조건[{[key]}] 훈련 종료--\\n\") # 조건에 맞는 실험종료"
   ]
  },
  {
   "cell_type": "code",
   "execution_count": 65,
   "metadata": {},
   "outputs": [],
   "source": [
    "# 학습된 모델 저장\n",
    "path = {} #모델별 경로명 저장\n",
    "for mk in model_key:\n",
    "    path[mk] = f'{mk}_NER.pth'\n",
    "    torch.save(models[mk].state_dict(), path[mk])"
   ]
  },
  {
   "cell_type": "code",
   "execution_count": 66,
   "metadata": {},
   "outputs": [],
   "source": [
    "# 저장된 모델 불러오기\n",
    "load_model = {\n",
    "    'LSTM': Lstm_tagger,  # LSTM 모델 인스턴스 생성\n",
    "    'GRU': Gru_tagger      # GRU 모델 인스턴스 생성\n",
    "}\n",
    "for mk in model_key:\n",
    "    load_model[mk].load_state_dict(torch.load(path[mk], weights_only=True))\n",
    "    #추론기는 CPU에서 돌리자\n",
    "    load_model[mk] = load_model[mk].to('cpu')"
   ]
  },
  {
   "cell_type": "code",
   "execution_count": 194,
   "metadata": {},
   "outputs": [
    {
     "name": "stdout",
     "output_type": "stream",
     "text": [
      "임의의 원문: 경상남도 창원시 성산구 중앙동 주소 보도블럭 불량으로 신고합니다 \n",
      "원문의 태그: [['경상남도', 'LOC'], ['창원시', 'LOC'], ['성산구', 'LOC'], ['중앙동', 'LOC']]\n"
     ]
    }
   ],
   "source": [
    "import random\n",
    "total_docs = len(raw_data)\n",
    "sample_idx = random.randint(0, total_docs-1)\n",
    "\n",
    "# 데이터프레임의 항목을 분리 후 리스트 타입으로 변경\n",
    "sample_doc = raw_data['컨텐츠'].iloc[sample_idx]\n",
    "# 개체 : 개체 라벨링 의 태그 정보는 따로 추출한다.\n",
    "sample_tag = raw_data['개체'].iloc[sample_idx]\n",
    "\n",
    "print(f'임의의 원문: {sample_doc}')\n",
    "print(f'원문의 태그: {sample_tag}')"
   ]
  },
  {
   "cell_type": "code",
   "execution_count": 195,
   "metadata": {},
   "outputs": [],
   "source": [
    "def convert_model_input(x_data, word_tokenizer, word_to_idx, context_length):\n",
    "    token_x_data = tokenize([x_data], word_tokenizer)\n",
    "    e_token = text_to_sequences(token_x_data, word_to_idx)\n",
    "    pad_token = pad_seq_x(e_token, context_length)\n",
    "    t_pad_token = torch.tensor(pad_token, dtype=torch.long)\n",
    "\n",
    "    return t_pad_token # 출력물은 (1, seq_len)의 텐서 자료형\n",
    "\n",
    "def convert_tag_label(x_data, tags, word_tokenizer, tag_to_idx, context_length):\n",
    "    temp = tokenize([x_data], word_tokenizer)\n",
    "    token_label, _ = BIO_tagging(temp, [tags], word_tokenizer)\n",
    "    e_label = text_to_sequences(token_label, tag_to_idx, spec_token='O')\n",
    "    pad_label = pad_seq_x(e_label, context_length)\n",
    "    t_pad_label = torch.tensor(pad_label, dtype=torch.long)\n",
    "\n",
    "    return t_pad_label # 출력물은 (1, seq_len)의 텐서 자료형"
   ]
  },
  {
   "cell_type": "code",
   "execution_count": 196,
   "metadata": {},
   "outputs": [
    {
     "name": "stderr",
     "output_type": "stream",
     "text": [
      "토큰화 진행 중: 100%|██████████| 1/1 [00:00<00:00, 1000.31it/s]\n"
     ]
    },
    {
     "name": "stdout",
     "output_type": "stream",
     "text": [
      "\n"
     ]
    },
    {
     "name": "stderr",
     "output_type": "stream",
     "text": [
      "토큰화 진행 중: 100%|██████████| 1/1 [00:00<00:00, 1000.07it/s]\n",
      "BIO 태깅 진행 중: 100%|██████████| 1/1 [00:00<?, ?it/s]\n"
     ]
    }
   ],
   "source": [
    "t_doc = convert_model_input(sample_doc, word_tokenizer, word_to_idx, context_length)\n",
    "print()\n",
    "t_label = convert_tag_label(sample_doc, sample_tag, word_tokenizer, tag_to_idx, context_length)"
   ]
  },
  {
   "cell_type": "code",
   "execution_count": 197,
   "metadata": {},
   "outputs": [],
   "source": [
    "# 모델별 추론 수행행\n",
    "outputs = {}\n",
    "for mk in model_key:\n",
    "    load_model[mk].eval()\n",
    "\n",
    "    with torch.no_grad():\n",
    "        # 모델의 출력값 연산\n",
    "        output = load_model[mk](t_doc)\n",
    "        # 모델의 출력값은 (bs, seq_len, tag_dim)이니 argmax로 best_pred연산\n",
    "        best_pred = output.argmax(dim=2)\n",
    "        outputs[mk] = best_pred[0].cpu().numpy() #numpy자료형변환"
   ]
  },
  {
   "cell_type": "code",
   "execution_count": 198,
   "metadata": {},
   "outputs": [
    {
     "name": "stdout",
     "output_type": "stream",
     "text": [
      "========  ========  ============  ===========\n",
      "단어      실제값    LSTM예측값    GRU예측값\n",
      "========  ========  ============  ===========\n",
      "경상남도  B-LOC     B-LOC         B-LOC\n",
      "창원시    B-LOC     B-LOC         B-LOC\n",
      "성산구    B-LOC     B-LOC         B-LOC\n",
      "중앙동    B-LOC     B-LOC         B-LOC\n",
      "주소      O         O             O\n",
      "보도      O         O             O\n",
      "블럭      O         O             O\n",
      "불량      O         O             O\n",
      "<UNK>     O         O             O\n",
      "신고      O         O             O\n",
      "<UNK>     O         O             O\n",
      "========  ========  ============  ===========\n"
     ]
    }
   ],
   "source": [
    "# 출력할 데이터를 저장할 리스트 생성\n",
    "table_data = []\n",
    "\n",
    "x_data = t_doc[0].cpu().numpy()\n",
    "y_label = t_label[0].cpu().numpy()\n",
    "\n",
    "for word, tag, lstm_pred, gru_pred in zip(x_data, y_label, \n",
    "                                          outputs['LSTM'], \n",
    "                                          outputs['GRU']):\n",
    "    if word != 0: #PAD 토큰 제외\n",
    "        table_data.append([idx_to_word[word], idx_to_tag[tag], \n",
    "                           idx_to_tag[lstm_pred], idx_to_tag[gru_pred]])\n",
    "        \n",
    "# 테이블 헤더\n",
    "headers = [\"단어\", \"실제값\", \"LSTM예측값\", \"GRU예측값\"]\n",
    "\n",
    "# tabulate를 사용하여 출력\n",
    "print(tabulate(table_data, headers=headers, tablefmt=\"rst\"))"
   ]
  }
 ],
 "metadata": {
  "kernelspec": {
   "display_name": "Python 3",
   "language": "python",
   "name": "python3"
  },
  "language_info": {
   "codemirror_mode": {
    "name": "ipython",
    "version": 3
   },
   "file_extension": ".py",
   "mimetype": "text/x-python",
   "name": "python",
   "nbconvert_exporter": "python",
   "pygments_lexer": "ipython3",
   "version": "3.8.10"
  }
 },
 "nbformat": 4,
 "nbformat_minor": 2
}
