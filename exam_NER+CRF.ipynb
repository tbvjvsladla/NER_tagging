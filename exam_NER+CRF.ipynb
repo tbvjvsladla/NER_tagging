{
 "cells": [
  {
   "cell_type": "code",
   "execution_count": 1,
   "metadata": {},
   "outputs": [],
   "source": [
    "import json\n",
    "\n",
    "file_path = './1.Training/라벨링데이터/자동차/자동차_295107.json'\n",
    "\n",
    "#json파일 불러오기\n",
    "with open(file_path, 'r', encoding='utf-8') as f:\n",
    "    data = json.load(f)\n",
    "\n",
    "parsed_data =[] # 파싱 데이터를 저장할 변수\n",
    "\n",
    "for docu in data['documents']:\n",
    "    # 문서 내 id, Q_refined 추출\n",
    "    doc_id = docu['id']\n",
    "    q_refiled = docu['Q_refined']\n",
    "\n",
    "    # endity는 여러개 존재하니 [개채명 : 개체 분류] 형식으로 파싱\n",
    "    entities = [[eneity['form'], eneity['label']] \n",
    "                for eneity in docu[\"labeling\"][\"entities\"]]\n",
    "\n",
    "    # 현재 document의 정보를 딕셔너리에 담고, 리스트에 추가\n",
    "    raw_dict = {\n",
    "        \"문서ID\": doc_id,\n",
    "        \"컨텐츠\": q_refiled,\n",
    "        \"개체\": entities\n",
    "    }\n",
    "    parsed_data.append(raw_dict)"
   ]
  },
  {
   "cell_type": "code",
   "execution_count": 2,
   "metadata": {},
   "outputs": [
    {
     "data": {
      "text/html": [
       "<div>\n",
       "<style scoped>\n",
       "    .dataframe tbody tr th:only-of-type {\n",
       "        vertical-align: middle;\n",
       "    }\n",
       "\n",
       "    .dataframe tbody tr th {\n",
       "        vertical-align: top;\n",
       "    }\n",
       "\n",
       "    .dataframe thead th {\n",
       "        text-align: right;\n",
       "    }\n",
       "</style>\n",
       "<table border=\"1\" class=\"dataframe\">\n",
       "  <thead>\n",
       "    <tr style=\"text-align: right;\">\n",
       "      <th></th>\n",
       "      <th>문서ID</th>\n",
       "      <th>컨텐츠</th>\n",
       "      <th>개체</th>\n",
       "    </tr>\n",
       "  </thead>\n",
       "  <tbody>\n",
       "    <tr>\n",
       "      <th>0</th>\n",
       "      <td>B11-2</td>\n",
       "      <td>마산 #@주소# 불법주정차에 대한 조치 요청드립니다.</td>\n",
       "      <td>[[마산, LOC]]</td>\n",
       "    </tr>\n",
       "    <tr>\n",
       "      <th>1</th>\n",
       "      <td>B11-3</td>\n",
       "      <td>불법주정차 처리 부탁드립니다. 위치는 마산 #@주소#입니다.</td>\n",
       "      <td>[[마산, LOC]]</td>\n",
       "    </tr>\n",
       "    <tr>\n",
       "      <th>2</th>\n",
       "      <td>B11-4</td>\n",
       "      <td>마산 #@주소# 불법주정차 행위 조치 부탁합니다.</td>\n",
       "      <td>[[마산, LOC]]</td>\n",
       "    </tr>\n",
       "    <tr>\n",
       "      <th>3</th>\n",
       "      <td>B20-0</td>\n",
       "      <td>삼각지 주차로 인한 보행자 안전 위협 조치해주세요.</td>\n",
       "      <td>[[주차, AFW]]</td>\n",
       "    </tr>\n",
       "    <tr>\n",
       "      <th>4</th>\n",
       "      <td>B20-1</td>\n",
       "      <td>삼각지 주차로 인해 보행자 안전이 위험합니다. 개선 부탁드립니다.</td>\n",
       "      <td>[[주차, AFW]]</td>\n",
       "    </tr>\n",
       "    <tr>\n",
       "      <th>...</th>\n",
       "      <td>...</td>\n",
       "      <td>...</td>\n",
       "      <td>...</td>\n",
       "    </tr>\n",
       "    <tr>\n",
       "      <th>295102</th>\n",
       "      <td>C49972-3</td>\n",
       "      <td>창원에서 법인차량 주소지를 변경신고하고자 담당부서 안내 요청드립니다.</td>\n",
       "      <td>[[창원, LOC], [법인차량, AFW]]</td>\n",
       "    </tr>\n",
       "    <tr>\n",
       "      <th>295103</th>\n",
       "      <td>C49972-4</td>\n",
       "      <td>창원에 있는 법인차량의 주소지 변경하고 신고하려고 하는데 담당부서를 안내 부탁드립니다.</td>\n",
       "      <td>[[창원, LOC], [법인차량, AFW]]</td>\n",
       "    </tr>\n",
       "    <tr>\n",
       "      <th>295104</th>\n",
       "      <td>C49996-2</td>\n",
       "      <td>창원시 주정차 과태료 관련 문의합니다.</td>\n",
       "      <td>[[창원시, LOC]]</td>\n",
       "    </tr>\n",
       "    <tr>\n",
       "      <th>295105</th>\n",
       "      <td>C49996-3</td>\n",
       "      <td>창원시 주정차 과태료 관련 문의드려요.</td>\n",
       "      <td>[[창원시, LOC]]</td>\n",
       "    </tr>\n",
       "    <tr>\n",
       "      <th>295106</th>\n",
       "      <td>C49996-4</td>\n",
       "      <td>창원시 주정차 과태료 관련 문의드릴 게 있습니다.</td>\n",
       "      <td>[[창원시, LOC]]</td>\n",
       "    </tr>\n",
       "  </tbody>\n",
       "</table>\n",
       "<p>295107 rows × 3 columns</p>\n",
       "</div>"
      ],
      "text/plain": [
       "            문서ID                                               컨텐츠  \\\n",
       "0          B11-2                     마산 #@주소# 불법주정차에 대한 조치 요청드립니다.   \n",
       "1          B11-3                 불법주정차 처리 부탁드립니다. 위치는 마산 #@주소#입니다.   \n",
       "2          B11-4                       마산 #@주소# 불법주정차 행위 조치 부탁합니다.   \n",
       "3          B20-0                      삼각지 주차로 인한 보행자 안전 위협 조치해주세요.   \n",
       "4          B20-1              삼각지 주차로 인해 보행자 안전이 위험합니다. 개선 부탁드립니다.   \n",
       "...          ...                                               ...   \n",
       "295102  C49972-3            창원에서 법인차량 주소지를 변경신고하고자 담당부서 안내 요청드립니다.   \n",
       "295103  C49972-4  창원에 있는 법인차량의 주소지 변경하고 신고하려고 하는데 담당부서를 안내 부탁드립니다.   \n",
       "295104  C49996-2                             창원시 주정차 과태료 관련 문의합니다.   \n",
       "295105  C49996-3                             창원시 주정차 과태료 관련 문의드려요.   \n",
       "295106  C49996-4                       창원시 주정차 과태료 관련 문의드릴 게 있습니다.   \n",
       "\n",
       "                              개체  \n",
       "0                    [[마산, LOC]]  \n",
       "1                    [[마산, LOC]]  \n",
       "2                    [[마산, LOC]]  \n",
       "3                    [[주차, AFW]]  \n",
       "4                    [[주차, AFW]]  \n",
       "...                          ...  \n",
       "295102  [[창원, LOC], [법인차량, AFW]]  \n",
       "295103  [[창원, LOC], [법인차량, AFW]]  \n",
       "295104              [[창원시, LOC]]  \n",
       "295105              [[창원시, LOC]]  \n",
       "295106              [[창원시, LOC]]  \n",
       "\n",
       "[295107 rows x 3 columns]"
      ]
     },
     "metadata": {},
     "output_type": "display_data"
    }
   ],
   "source": [
    "import pandas as pd\n",
    "\n",
    "# 파싱이 완료된 데이터를 Dataframe 형식으로 변환\n",
    "raw_data = pd.DataFrame(parsed_data)\n",
    "\n",
    "display(raw_data)"
   ]
  },
  {
   "cell_type": "code",
   "execution_count": 3,
   "metadata": {},
   "outputs": [],
   "source": [
    "# 데이터 및 텍스트 전처리 함수를 모듈화 시킨 파일\n",
    "from NLP_pp import *\n",
    "# 데이터셋읜 결측치 & 중복치 제거 함수 실행\n",
    "raw_data = df_cleaning(raw_data, '컨텐츠')"
   ]
  },
  {
   "cell_type": "code",
   "execution_count": 4,
   "metadata": {},
   "outputs": [
    {
     "data": {
      "text/html": [
       "<div>\n",
       "<style scoped>\n",
       "    .dataframe tbody tr th:only-of-type {\n",
       "        vertical-align: middle;\n",
       "    }\n",
       "\n",
       "    .dataframe tbody tr th {\n",
       "        vertical-align: top;\n",
       "    }\n",
       "\n",
       "    .dataframe thead th {\n",
       "        text-align: right;\n",
       "    }\n",
       "</style>\n",
       "<table border=\"1\" class=\"dataframe\">\n",
       "  <thead>\n",
       "    <tr style=\"text-align: right;\">\n",
       "      <th></th>\n",
       "      <th>문서ID</th>\n",
       "      <th>컨텐츠</th>\n",
       "      <th>개체</th>\n",
       "    </tr>\n",
       "  </thead>\n",
       "  <tbody>\n",
       "    <tr>\n",
       "      <th>0</th>\n",
       "      <td>B11-2</td>\n",
       "      <td>마산 #@주소# 불법주정차에 대한 조치 요청드립니다.</td>\n",
       "      <td>[[마산, LOC]]</td>\n",
       "    </tr>\n",
       "    <tr>\n",
       "      <th>1</th>\n",
       "      <td>B11-3</td>\n",
       "      <td>불법주정차 처리 부탁드립니다. 위치는 마산 #@주소#입니다.</td>\n",
       "      <td>[[마산, LOC]]</td>\n",
       "    </tr>\n",
       "    <tr>\n",
       "      <th>2</th>\n",
       "      <td>B11-4</td>\n",
       "      <td>마산 #@주소# 불법주정차 행위 조치 부탁합니다.</td>\n",
       "      <td>[[마산, LOC]]</td>\n",
       "    </tr>\n",
       "    <tr>\n",
       "      <th>3</th>\n",
       "      <td>B20-0</td>\n",
       "      <td>삼각지 주차로 인한 보행자 안전 위협 조치해주세요.</td>\n",
       "      <td>[[주차, AFW]]</td>\n",
       "    </tr>\n",
       "    <tr>\n",
       "      <th>4</th>\n",
       "      <td>B20-1</td>\n",
       "      <td>삼각지 주차로 인해 보행자 안전이 위험합니다. 개선 부탁드립니다.</td>\n",
       "      <td>[[주차, AFW]]</td>\n",
       "    </tr>\n",
       "    <tr>\n",
       "      <th>...</th>\n",
       "      <td>...</td>\n",
       "      <td>...</td>\n",
       "      <td>...</td>\n",
       "    </tr>\n",
       "    <tr>\n",
       "      <th>185300</th>\n",
       "      <td>C49972-2</td>\n",
       "      <td>창원 법인차량 주소지를 변경신고하려는데 필요한 구비서류가 어떻게 되는지 담당부서와 ...</td>\n",
       "      <td>[[창원, LOC], [법인차량, AFW]]</td>\n",
       "    </tr>\n",
       "    <tr>\n",
       "      <th>185301</th>\n",
       "      <td>C49972-3</td>\n",
       "      <td>창원에서 법인차량 주소지를 변경신고하고자 담당부서 안내 요청드립니다.</td>\n",
       "      <td>[[창원, LOC], [법인차량, AFW]]</td>\n",
       "    </tr>\n",
       "    <tr>\n",
       "      <th>185302</th>\n",
       "      <td>C49972-4</td>\n",
       "      <td>창원에 있는 법인차량의 주소지 변경하고 신고하려고 하는데 담당부서를 안내 부탁드립니다.</td>\n",
       "      <td>[[창원, LOC], [법인차량, AFW]]</td>\n",
       "    </tr>\n",
       "    <tr>\n",
       "      <th>185303</th>\n",
       "      <td>C49996-2</td>\n",
       "      <td>창원시 주정차 과태료 관련 문의합니다.</td>\n",
       "      <td>[[창원시, LOC]]</td>\n",
       "    </tr>\n",
       "    <tr>\n",
       "      <th>185304</th>\n",
       "      <td>C49996-3</td>\n",
       "      <td>창원시 주정차 과태료 관련 문의드려요.</td>\n",
       "      <td>[[창원시, LOC]]</td>\n",
       "    </tr>\n",
       "  </tbody>\n",
       "</table>\n",
       "<p>185305 rows × 3 columns</p>\n",
       "</div>"
      ],
      "text/plain": [
       "            문서ID                                                컨텐츠  \\\n",
       "0          B11-2                      마산 #@주소# 불법주정차에 대한 조치 요청드립니다.   \n",
       "1          B11-3                  불법주정차 처리 부탁드립니다. 위치는 마산 #@주소#입니다.   \n",
       "2          B11-4                        마산 #@주소# 불법주정차 행위 조치 부탁합니다.   \n",
       "3          B20-0                       삼각지 주차로 인한 보행자 안전 위협 조치해주세요.   \n",
       "4          B20-1               삼각지 주차로 인해 보행자 안전이 위험합니다. 개선 부탁드립니다.   \n",
       "...          ...                                                ...   \n",
       "185300  C49972-2  창원 법인차량 주소지를 변경신고하려는데 필요한 구비서류가 어떻게 되는지 담당부서와 ...   \n",
       "185301  C49972-3             창원에서 법인차량 주소지를 변경신고하고자 담당부서 안내 요청드립니다.   \n",
       "185302  C49972-4   창원에 있는 법인차량의 주소지 변경하고 신고하려고 하는데 담당부서를 안내 부탁드립니다.   \n",
       "185303  C49996-2                              창원시 주정차 과태료 관련 문의합니다.   \n",
       "185304  C49996-3                              창원시 주정차 과태료 관련 문의드려요.   \n",
       "\n",
       "                              개체  \n",
       "0                    [[마산, LOC]]  \n",
       "1                    [[마산, LOC]]  \n",
       "2                    [[마산, LOC]]  \n",
       "3                    [[주차, AFW]]  \n",
       "4                    [[주차, AFW]]  \n",
       "...                          ...  \n",
       "185300  [[창원, LOC], [법인차량, AFW]]  \n",
       "185301  [[창원, LOC], [법인차량, AFW]]  \n",
       "185302  [[창원, LOC], [법인차량, AFW]]  \n",
       "185303              [[창원시, LOC]]  \n",
       "185304              [[창원시, LOC]]  \n",
       "\n",
       "[185305 rows x 3 columns]"
      ]
     },
     "metadata": {},
     "output_type": "display_data"
    }
   ],
   "source": [
    "display(raw_data)"
   ]
  },
  {
   "cell_type": "code",
   "execution_count": 5,
   "metadata": {},
   "outputs": [],
   "source": [
    "import re\n",
    "\n",
    "# 한글, 영어(소문자, 대문자), 숫자\n",
    "p1 = re.compile(r'[^가-힣a-zA-Z0-9\\s]')\n",
    "# 개행문자 + 하나 이상의 공백문자\n",
    "p2 = re.compile(r'\\n|\\s+')\n",
    "# 영어 대문자만 있는 경우를 감지하는 정규표현식 패턴\n",
    "p999 = re.compile(r'^[A-Z]+$')\n",
    "\n",
    "def regex_sub(origin_sent):\n",
    "    clean_text = p1.sub(repl=\" \", string=origin_sent)\n",
    "    clean_text = p2.sub(\" \", clean_text)\n",
    "\n",
    "    return clean_text\n",
    "\n",
    "# [개체:태그]데이터는 리스트 형식이라서 위 함수를 콜백으로 사용함\n",
    "def list_regex_sub(origin_list):\n",
    "    return [[regex_sub(entity), label] for entity, label in origin_list]\n",
    "\n",
    "# 태그 항목을 클리닝하는 함수\n",
    "def clean_tags(entity_list):\n",
    "    # 각 [개체명, 태그] 쌍을 검사하여 태그가 영어 대문자 외 단어가 포함된 경우\n",
    "    # 이 태그는 오염된 태그이니 [개체명, 오염된 태그] 리스트 자체를 제거\n",
    "    cleaned_list = [[entity, tag] for entity, tag in entity_list if p999.match(tag)]\n",
    "    \n",
    "    return cleaned_list"
   ]
  },
  {
   "cell_type": "code",
   "execution_count": 6,
   "metadata": {},
   "outputs": [],
   "source": [
    "# 설계한 정규표현식기반 특수문자 삭제 함수 적용\n",
    "# apply함수는 inplace=True(덮어쓰기) 기능이 없음\n",
    "raw_data['컨텐츠'] = raw_data['컨텐츠'].apply(regex_sub)\n",
    "raw_data['개체'] = raw_data['개체'].apply(list_regex_sub)\n",
    "\n",
    "# 태그 항목에서 오염된 태그 항목을 제거하는 함수 구동\n",
    "raw_data['개체'] = raw_data['개체'].apply(clean_tags)"
   ]
  },
  {
   "cell_type": "code",
   "execution_count": 7,
   "metadata": {},
   "outputs": [
    {
     "data": {
      "text/html": [
       "<div>\n",
       "<style scoped>\n",
       "    .dataframe tbody tr th:only-of-type {\n",
       "        vertical-align: middle;\n",
       "    }\n",
       "\n",
       "    .dataframe tbody tr th {\n",
       "        vertical-align: top;\n",
       "    }\n",
       "\n",
       "    .dataframe thead th {\n",
       "        text-align: right;\n",
       "    }\n",
       "</style>\n",
       "<table border=\"1\" class=\"dataframe\">\n",
       "  <thead>\n",
       "    <tr style=\"text-align: right;\">\n",
       "      <th></th>\n",
       "      <th>문서ID</th>\n",
       "      <th>컨텐츠</th>\n",
       "      <th>개체</th>\n",
       "    </tr>\n",
       "  </thead>\n",
       "  <tbody>\n",
       "    <tr>\n",
       "      <th>0</th>\n",
       "      <td>B11-2</td>\n",
       "      <td>마산 주소 불법주정차에 대한 조치 요청드립니다</td>\n",
       "      <td>[[마산, LOC]]</td>\n",
       "    </tr>\n",
       "    <tr>\n",
       "      <th>1</th>\n",
       "      <td>B11-3</td>\n",
       "      <td>불법주정차 처리 부탁드립니다 위치는 마산 주소 입니다</td>\n",
       "      <td>[[마산, LOC]]</td>\n",
       "    </tr>\n",
       "    <tr>\n",
       "      <th>2</th>\n",
       "      <td>B11-4</td>\n",
       "      <td>마산 주소 불법주정차 행위 조치 부탁합니다</td>\n",
       "      <td>[[마산, LOC]]</td>\n",
       "    </tr>\n",
       "    <tr>\n",
       "      <th>3</th>\n",
       "      <td>B20-0</td>\n",
       "      <td>삼각지 주차로 인한 보행자 안전 위협 조치해주세요</td>\n",
       "      <td>[[주차, AFW]]</td>\n",
       "    </tr>\n",
       "    <tr>\n",
       "      <th>4</th>\n",
       "      <td>B20-1</td>\n",
       "      <td>삼각지 주차로 인해 보행자 안전이 위험합니다 개선 부탁드립니다</td>\n",
       "      <td>[[주차, AFW]]</td>\n",
       "    </tr>\n",
       "    <tr>\n",
       "      <th>...</th>\n",
       "      <td>...</td>\n",
       "      <td>...</td>\n",
       "      <td>...</td>\n",
       "    </tr>\n",
       "    <tr>\n",
       "      <th>185300</th>\n",
       "      <td>C49972-2</td>\n",
       "      <td>창원 법인차량 주소지를 변경신고하려는데 필요한 구비서류가 어떻게 되는지 담당부서와 ...</td>\n",
       "      <td>[[창원, LOC], [법인차량, AFW]]</td>\n",
       "    </tr>\n",
       "    <tr>\n",
       "      <th>185301</th>\n",
       "      <td>C49972-3</td>\n",
       "      <td>창원에서 법인차량 주소지를 변경신고하고자 담당부서 안내 요청드립니다</td>\n",
       "      <td>[[창원, LOC], [법인차량, AFW]]</td>\n",
       "    </tr>\n",
       "    <tr>\n",
       "      <th>185302</th>\n",
       "      <td>C49972-4</td>\n",
       "      <td>창원에 있는 법인차량의 주소지 변경하고 신고하려고 하는데 담당부서를 안내 부탁드립니다</td>\n",
       "      <td>[[창원, LOC], [법인차량, AFW]]</td>\n",
       "    </tr>\n",
       "    <tr>\n",
       "      <th>185303</th>\n",
       "      <td>C49996-2</td>\n",
       "      <td>창원시 주정차 과태료 관련 문의합니다</td>\n",
       "      <td>[[창원시, LOC]]</td>\n",
       "    </tr>\n",
       "    <tr>\n",
       "      <th>185304</th>\n",
       "      <td>C49996-3</td>\n",
       "      <td>창원시 주정차 과태료 관련 문의드려요</td>\n",
       "      <td>[[창원시, LOC]]</td>\n",
       "    </tr>\n",
       "  </tbody>\n",
       "</table>\n",
       "<p>185305 rows × 3 columns</p>\n",
       "</div>"
      ],
      "text/plain": [
       "            문서ID                                                컨텐츠  \\\n",
       "0          B11-2                         마산 주소 불법주정차에 대한 조치 요청드립니다    \n",
       "1          B11-3                     불법주정차 처리 부탁드립니다 위치는 마산 주소 입니다    \n",
       "2          B11-4                           마산 주소 불법주정차 행위 조치 부탁합니다    \n",
       "3          B20-0                       삼각지 주차로 인한 보행자 안전 위협 조치해주세요    \n",
       "4          B20-1                삼각지 주차로 인해 보행자 안전이 위험합니다 개선 부탁드립니다    \n",
       "...          ...                                                ...   \n",
       "185300  C49972-2  창원 법인차량 주소지를 변경신고하려는데 필요한 구비서류가 어떻게 되는지 담당부서와 ...   \n",
       "185301  C49972-3             창원에서 법인차량 주소지를 변경신고하고자 담당부서 안내 요청드립니다    \n",
       "185302  C49972-4   창원에 있는 법인차량의 주소지 변경하고 신고하려고 하는데 담당부서를 안내 부탁드립니다    \n",
       "185303  C49996-2                              창원시 주정차 과태료 관련 문의합니다    \n",
       "185304  C49996-3                              창원시 주정차 과태료 관련 문의드려요    \n",
       "\n",
       "                              개체  \n",
       "0                    [[마산, LOC]]  \n",
       "1                    [[마산, LOC]]  \n",
       "2                    [[마산, LOC]]  \n",
       "3                    [[주차, AFW]]  \n",
       "4                    [[주차, AFW]]  \n",
       "...                          ...  \n",
       "185300  [[창원, LOC], [법인차량, AFW]]  \n",
       "185301  [[창원, LOC], [법인차량, AFW]]  \n",
       "185302  [[창원, LOC], [법인차량, AFW]]  \n",
       "185303              [[창원시, LOC]]  \n",
       "185304              [[창원시, LOC]]  \n",
       "\n",
       "[185305 rows x 3 columns]"
      ]
     },
     "metadata": {},
     "output_type": "display_data"
    }
   ],
   "source": [
    "display(raw_data)"
   ]
  },
  {
   "cell_type": "code",
   "execution_count": 8,
   "metadata": {},
   "outputs": [],
   "source": [
    "# 데이터프레임의 항목을 분리 후 리스트 타입으로 변경\n",
    "raw_x_data = raw_data['컨텐츠'].values.tolist()\n",
    "# 개체 : 개체 라벨링 의 태그 정보는 따로 추출한다.\n",
    "tag_data = raw_data['개체'].values.tolist()"
   ]
  },
  {
   "cell_type": "code",
   "execution_count": 9,
   "metadata": {},
   "outputs": [],
   "source": [
    "from mecab import MeCab #한글 단어 토크나이저\n",
    "from tqdm import tqdm\n",
    "\n",
    "#mecab 형태소 분석기 인스턴스화\n",
    "word_tokenizer = MeCab()"
   ]
  },
  {
   "cell_type": "code",
   "execution_count": 10,
   "metadata": {},
   "outputs": [
    {
     "name": "stderr",
     "output_type": "stream",
     "text": [
      "토큰화 진행 중: 100%|██████████| 185305/185305 [00:24<00:00, 7639.36it/s]\n"
     ]
    }
   ],
   "source": [
    "# 토큰화 수행\n",
    "tokenized_x_data = tokenize(raw_x_data, word_tokenizer)"
   ]
  },
  {
   "cell_type": "code",
   "execution_count": 11,
   "metadata": {},
   "outputs": [
    {
     "name": "stderr",
     "output_type": "stream",
     "text": [
      "BIO 태깅 진행 중: 100%|██████████| 185305/185305 [00:12<00:00, 15407.81it/s]\n"
     ]
    }
   ],
   "source": [
    "# BIO 태깅 방법론으로 태깅처리된 y데이터와 태깅 검증을 위한 데이터(token_tag) 두개 반환\n",
    "tagged_y_label, token_tag_data = BIO_tagging(tokenized_x_data, \n",
    "                                             tag_data, \n",
    "                                             word_tokenizer)"
   ]
  },
  {
   "cell_type": "code",
   "execution_count": 12,
   "metadata": {},
   "outputs": [
    {
     "name": "stdout",
     "output_type": "stream",
     "text": [
      "원문 데이터 raw_x : 성산구 버스정류소에 불법주정차된 차량을 신고합니다 \n",
      "토큰화 데이터(x)  : ['성산구', '버스', '정류소', '에', '불법', '주정차', '된', '차량', '을', '신고', '합니다']\n",
      "태그 데이터(tag)  : [['성산구', 'LOC'], ['버스', 'AFW'], ['차량', 'AFW']]\n",
      "토큰 태그데이터   : [['성산구'], 'B-LOC', ['버스'], 'B-AFW', ['차량'], 'B-AFW']\n",
      "라벨링 데이터(y)  : ['B-LOC', 'B-AFW', 'O', 'O', 'O', 'O', 'O', 'B-AFW', 'O', 'O', 'O']\n"
     ]
    }
   ],
   "source": [
    "import random\n",
    "\n",
    "# 코드 검증을 임의로 반복하기 위해 랜덤으로 샘플링\n",
    "sample_idx = random.randint(0, len(tokenized_x_data)-1)\n",
    "val_BIO_tagging(raw_x_data, tokenized_x_data,\n",
    "                tag_data, token_tag_data,\n",
    "                tagged_y_label, sample_idx)"
   ]
  },
  {
   "cell_type": "code",
   "execution_count": 13,
   "metadata": {},
   "outputs": [],
   "source": [
    "from sklearn.model_selection import train_test_split\n",
    "\n",
    "# 훈련/검증/평가를 80%, 15%, 5%로 분할을 수행\n",
    "# random_state -> 데이터셋을 내누는데 '재현성' 유지를 위해 넣음 -> 안넣어도 됨\n",
    "# stratify -> y 클래스 비율을 알기 어렵기에 해당 항목은 없앰\n",
    "x_train, x_etc, y_train, y_etc = train_test_split(\n",
    "    tokenized_x_data, tagged_y_label, test_size=0.20\n",
    ")\n",
    "\n",
    "# 그 외 데이터셋을 반반으로 Val, Test로 나눔\n",
    "x_val, x_test, y_val, y_test = train_test_split(\n",
    "    x_etc, y_etc, test_size=0.25\n",
    ")"
   ]
  },
  {
   "cell_type": "code",
   "execution_count": 14,
   "metadata": {},
   "outputs": [
    {
     "name": "stdout",
     "output_type": "stream",
     "text": [
      "훈련 데이터셋 개수: 148244, 클래스 비율: 비율연산 불가 라벨데이터\n",
      "검증 데이터셋 개수: 27795, 클래스 비율: 비율연산 불가 라벨데이터\n",
      "평가 데이터셋 개수: 9266, 클래스 비율: 비율연산 불가 라벨데이터\n"
     ]
    }
   ],
   "source": [
    "val_class_ratio(x_train, y_train, '훈련')\n",
    "val_class_ratio(x_val, y_val, '검증')\n",
    "val_class_ratio(x_test, y_test, '평가')"
   ]
  },
  {
   "cell_type": "code",
   "execution_count": 15,
   "metadata": {},
   "outputs": [
    {
     "name": "stdout",
     "output_type": "stream",
     "text": [
      "단어장에 포함된 단어는 4258\n",
      "태깅된 항목 종류(class):\n",
      "O, B-AFW, I-AFW, B-AFWQ, B-ANM, \n",
      "I-ANM, B-CVL, I-CVL, B-DAT, I-DAT, \n",
      "B-EVT, I-EVT, B-FLD, I-FLD, B-LCO, \n",
      "B-LOC, I-LOC, B-LOD, B-LOG, B-MAT, \n",
      "I-MAT, B-ORG, I-ORG, B-PER, I-PER, \n",
      "B-PLT, I-PLT, B-QTT, I-QTT, B-RTM, \n",
      "B-THR, I-THR, B-TIM, I-TIM, B-TMR, \n",
      "B-TRM, I-TRM, "
     ]
    }
   ],
   "source": [
    "vocab, tags = set_vocab_label_forNER(tokenized_x_data, \n",
    "                                     tagged_y_label,\n",
    "                                     report=True)"
   ]
  },
  {
   "cell_type": "code",
   "execution_count": 16,
   "metadata": {},
   "outputs": [
    {
     "name": "stdout",
     "output_type": "stream",
     "text": [
      "단어장에 포함된 단어는 : 4240\n",
      "['O', 'B-AFW', 'I-AFW', 'B-AFWQ', 'B-ANM', 'I-ANM', 'B-CVL', 'I-CVL', 'B-DAT', 'I-DAT', 'B-EVT', 'I-EVT', 'B-FLD', 'I-FLD', 'B-LCO', 'B-LOC', 'I-LOC', 'B-LOD', 'B-LOG', 'B-MAT', 'I-MAT', 'B-ORG', 'I-ORG', 'B-PER', 'I-PER', 'B-PLT', 'I-PLT', 'B-QTT', 'I-QTT', 'B-RTM', 'B-THR', 'I-THR', 'B-TIM', 'I-TIM', 'B-TMR', 'B-TRM', 'I-TRM']\n"
     ]
    }
   ],
   "source": [
    "# 훈련/검증 데이터셋만 단어장 생성 및 클래스 종류 식별에 사용\n",
    "vocab_1, tag_1 = set_vocab_label_forNER(x_train, y_train)\n",
    "vocab_2, tag_2 = set_vocab_label_forNER(x_val, y_val)\n",
    "\n",
    "vocab = list(set(vocab_1 + vocab_2))\n",
    "tags = list(set(tag_1 + tag_2))\n",
    "\n",
    "# 훈련 검증 데이터셋만 포함시킨 단어장\n",
    "print(f\"단어장에 포함된 단어는 : {len(vocab)}\")\n",
    "# 태깅된 항목 종류 출력\n",
    "s_tags = sort_tags([tags])\n",
    "print(s_tags)"
   ]
  },
  {
   "cell_type": "code",
   "execution_count": 17,
   "metadata": {},
   "outputs": [
    {
     "name": "stdout",
     "output_type": "stream",
     "text": [
      "단어집합(vocab)은 word_to_idx를 통해서\n",
      "[단어 : idx]의 <class 'dict'>타입이 되고\n",
      "스페셜 토큰 <PAD> <UNK> 을 포함하여\n",
      "총 관리되는 단어 '4240' -> '4242'가 됨\n",
      "\n",
      "태그집합(tags)은 word_to_tag를 통해서\n",
      "[태그토큰 : idx]의 <class 'dict'>타입이 되고\n",
      "스페셜 태그토큰 <PAD> 을 포함하여\n",
      "총 관리되는 태그 '37' -> '38'가 됨\n"
     ]
    }
   ],
   "source": [
    "spec_x_token = ['<PAD>', '<UNK>'] # 스페셜 토큰(x)용 선언\n",
    "spec_y_tag = ['<PAD>'] # 스페셜 태깅토큰(y) 선언\n",
    "\n",
    "word_to_idx, idx_to_word = set_word_to_idx(spec_x_token, vocab, \n",
    "                                           report=True)\n",
    "print()\n",
    "tag_to_idx, idx_to_tag = set_word_to_idx(spec_y_tag, s_tags, \n",
    "                                           report=True, \n",
    "                                           content='태그')"
   ]
  },
  {
   "cell_type": "code",
   "execution_count": 18,
   "metadata": {},
   "outputs": [],
   "source": [
    "# x_data(원문)의 정수 인코딩 수행\n",
    "e_x_train = text_to_sequences(x_train, word_to_idx)\n",
    "e_x_val = text_to_sequences(x_val, word_to_idx)\n",
    "e_x_test = text_to_sequences(x_test, word_to_idx)\n",
    "\n",
    "# y_label(태그)의 정수 인코딩 수행\n",
    "e_y_train = text_to_sequences(y_train, tag_to_idx, spec_token='O')\n",
    "e_y_val = text_to_sequences(y_val, tag_to_idx, spec_token='O')\n",
    "e_y_test = text_to_sequences(y_test, tag_to_idx, spec_token='O')"
   ]
  },
  {
   "cell_type": "code",
   "execution_count": 19,
   "metadata": {},
   "outputs": [
    {
     "name": "stdout",
     "output_type": "stream",
     "text": [
      "토크나이징만 된 문장: ['장애', '인', '전용', '구역', '불법', '주정차', '차량', '신고', '입니다', '빠른', '계', '도', '조치', '바랍니다']\n",
      "정수인코딩 된 결과값: [4190, 31, 1865, 3864, 2867, 2573, 3232, 3601, 1, 1, 3006, 1801, 3302, 1]\n",
      "디코드로 복원한 문장: ['장애', '인', '전용', '구역', '불법', '주정차', '차량', '신고', '<UNK>', '<UNK>', '계', '도', '조치', '<UNK>']\n",
      "정수인코딩은 올바르게 진행됨\n",
      "\n",
      "토크나이징만 된 문장: ['O', 'O', 'O', 'O', 'O', 'O', 'B-AFW', 'O', 'O', 'O', 'O', 'O', 'O', 'O']\n",
      "정수인코딩 된 결과값: [1, 1, 1, 1, 1, 1, 2, 1, 1, 1, 1, 1, 1, 1]\n",
      "디코드로 복원한 문장: ['O', 'O', 'O', 'O', 'O', 'O', 'B-AFW', 'O', 'O', 'O', 'O', 'O', 'O', 'O']\n",
      "정수인코딩은 올바르게 진행됨\n"
     ]
    }
   ],
   "source": [
    "import random\n",
    "\n",
    "sample_idx = random.randint(0, len(e_x_train)-1)\n",
    "val_encode_decode(sample_idx, idx_to_word, x_train, e_x_train)\n",
    "print()\n",
    "val_encode_decode(sample_idx, idx_to_tag, y_train, e_y_train)"
   ]
  },
  {
   "cell_type": "code",
   "execution_count": 20,
   "metadata": {},
   "outputs": [
    {
     "name": "stdout",
     "output_type": "stream",
     "text": [
      "훈련 데이터셋 최대 길이: 475\n",
      "훈련 데이터셋 평균 길이: 17.99\n"
     ]
    },
    {
     "data": {
      "image/png": "[encoded data removed]",
      "text/plain": [
       "<Figure size 640x480 with 1 Axes>"
      ]
     },
     "metadata": {},
     "output_type": "display_data"
    },
    {
     "name": "stdout",
     "output_type": "stream",
     "text": [
      "데이터셋 문장 길이가 40 이하 데이터 비율: 96.33%\n"
     ]
    }
   ],
   "source": [
    "# 문서 당 시퀀스 길이를 정하는 하이퍼 파라미터\n",
    "context_length = 40\n",
    "set_sent_pad(e_x_train, context_length, report=True)"
   ]
  },
  {
   "cell_type": "code",
   "execution_count": 21,
   "metadata": {},
   "outputs": [],
   "source": [
    "# x_data(원문)의 문장 패딩(정수인코딩의 완료)\n",
    "padded_x_train = pad_seq_x(e_x_train, context_length)\n",
    "padded_x_val = pad_seq_x(e_x_val, context_length)\n",
    "padded_x_test = pad_seq_x(e_x_test, context_length)\n",
    "\n",
    "# y_label(태그)의 문장 패딩(정수인코딩의 완료)\n",
    "padded_y_train = pad_seq_x(e_y_train, context_length)\n",
    "padded_y_val = pad_seq_x(e_y_val, context_length)\n",
    "padded_y_test = pad_seq_x(e_y_test, context_length)"
   ]
  },
  {
   "cell_type": "code",
   "execution_count": 22,
   "metadata": {},
   "outputs": [
    {
     "name": "stdout",
     "output_type": "stream",
     "text": [
      "훈련용 정수(원핫)인코딩 shape: (148244, 40)\n",
      "검증용 정수(원핫)인코딩 shape: (27795, 40)\n",
      "평가용 정수(원핫)인코딩 shape: (9266, 40)\n",
      "\n",
      "훈련용 정수(원핫)인코딩 shape: (148244, 40)\n",
      "검증용 정수(원핫)인코딩 shape: (27795, 40)\n",
      "평가용 정수(원핫)인코딩 shape: (9266, 40)\n"
     ]
    }
   ],
   "source": [
    "val_pad_shape(padded_x_train, '훈련')\n",
    "val_pad_shape(padded_x_val, '검증')\n",
    "val_pad_shape(padded_x_test, '평가')\n",
    "print()\n",
    "val_pad_shape(padded_y_train, '훈련')\n",
    "val_pad_shape(padded_y_val, '검증')\n",
    "val_pad_shape(padded_y_test, '평가')"
   ]
  },
  {
   "cell_type": "code",
   "execution_count": 23,
   "metadata": {},
   "outputs": [
    {
     "name": "stdout",
     "output_type": "stream",
     "text": [
      "훈련용 X(인코딩)데이터 크기: [148244, 40]\n",
      "훈련용 Y(Label)데이터 크기: [148244, 40]\n",
      "검증용 X(인코딩)데이터 크기: [27795, 40]\n",
      "검증용 Y(Label)데이터 크기: [27795, 40]\n",
      "평가용 X(인코딩)데이터 크기: [9266, 40]\n",
      "평가용 Y(Label)데이터 크기: [9266, 40]\n"
     ]
    }
   ],
   "source": [
    "import torch\n",
    "bs = 256 # Batch_size 하이퍼 파라미터\n",
    "\n",
    "# 정수(원핫)인코딩 데이터를 데이터로더로 변환\n",
    "trainloader = set_dataloader(padded_x_train, padded_y_train, bs, \n",
    "                             content='훈련', report=True)\n",
    "valloader = set_dataloader(padded_x_val, padded_y_val, bs,\n",
    "                           content='검증', report=True)\n",
    "testloader = set_dataloader(padded_x_test, padded_y_test, bs, \n",
    "                            content='평가', report=True)"
   ]
  },
  {
   "cell_type": "code",
   "execution_count": 24,
   "metadata": {},
   "outputs": [
    {
     "name": "stdout",
     "output_type": "stream",
     "text": [
      "+-------------------+--------+\n",
      "| 하이퍼 파라미터   | 값     |\n",
      "+===================+========+\n",
      "| 태그 처리된 단어  | 4242개 |\n",
      "+-------------------+--------+\n",
      "| 문장 최대 길이    | 40     |\n",
      "+-------------------+--------+\n",
      "| 임베딩 차원       | 100    |\n",
      "+-------------------+--------+\n",
      "| 총 태그 종류      | 38종   |\n",
      "+-------------------+--------+\n",
      "| 언어 모델 층수    | 2층    |\n",
      "+-------------------+--------+\n",
      "| 히든 레이어 너비  | 500    |\n",
      "+-------------------+--------+\n"
     ]
    }
   ],
   "source": [
    "# 주요 하이퍼 파라미터 정리\n",
    "VOCAB_SIZE = len(word_to_idx)\n",
    "CONTEXT_LEN = context_length\n",
    "EMB_DIM = 100 # 임베딩 차원은 100으로\n",
    "NUM_Tags = len(tag_to_idx)\n",
    "NUM_Layers = 2 #셀의 레이어는 1층이 아니라 2층으로\n",
    "HIDE_DIM = 500\n",
    "\n",
    "from tabulate import tabulate\n",
    "\n",
    "# 출력할 데이터를 리스트 형식으로 준비\n",
    "data = [\n",
    "    [\"태그 처리된 단어\", f\"{VOCAB_SIZE}개\"],\n",
    "    [\"문장 최대 길이\", CONTEXT_LEN],\n",
    "    [\"임베딩 차원\", EMB_DIM],\n",
    "    [\"총 태그 종류\", f\"{NUM_Tags}종\"],\n",
    "    [\"언어 모델 층수\", f\"{NUM_Layers}층\"],\n",
    "    [\"히든 레이어 너비\", HIDE_DIM]\n",
    "]\n",
    "\n",
    "# 표 형식으로 출력\n",
    "print(tabulate(data, headers=[\"하이퍼 파라미터\", \"값\"], \n",
    "               tablefmt=\"grid\"))"
   ]
  },
  {
   "cell_type": "code",
   "execution_count": null,
   "metadata": {},
   "outputs": [],
   "source": [
    "import torch.nn as nn\n",
    "from TorchCRF import CRF\n",
    "\n",
    "class NERTagger_BiLSTM_CRF(nn.Module):\n",
    "    def __init__(self, vocab_size, embed_dim, tag_dim,\n",
    "                 hid_dim, num_layers, emb_matirx=None):\n",
    "        super(NERTagger_BiLSTM_CRF, self).__init__()\n",
    "\n",
    "        self.embed = nn.Embedding(vocab_size, embed_dim)\n",
    "        # 사전훈련 임베딩 사용 유/무 함수\n",
    "        if emb_matirx is not None:\n",
    "            self.embed.weight = nn.Parameter(\n",
    "                torch.tensor(emb_matirx, dtype=torch.float32))\n",
    "            self.embed.weight.requires_grad = True\n",
    "\n",
    "        self.lstm = nn.LSTM(input_size=embed_dim, # LSTM에 입력차원\n",
    "                            hidden_size=hid_dim, # LSTM의 출력차원\n",
    "                            num_layers=num_layers, # 내부 Cell 몇층?\n",
    "                            bidirectional=True, #양방향 학습 옵션 On\n",
    "                            batch_first=True) # 입력텐서 -> batch가 맨처음\n",
    "        \n",
    "        # 최종적으로 tag 종류를 맟추는 FC layer\n",
    "        # 양방향 연산이기에 FC_layer에 입력되는 feature는 2배로 늘어난다\n",
    "        self.classifier = nn.Sequential(\n",
    "            nn.Linear(hid_dim*2, tag_dim),\n",
    "        )\n",
    "\n",
    "        # CRF 레이어 추가, 입력은 classifier 통과 결과물을 받아야 함\n",
    "        self.crf = CRF(tag_dim)\n",
    "\n",
    "    def forward(self, x, tags=None, mask=None):\n",
    "        # 입력 x : batch_size, seq_length\n",
    "        emb = self.embed(x) # (batch_size, seq_length, embedding_dim)\n",
    "        # 양방향 학습 On이기에\n",
    "        # lstm_out : (bs, seq_len, hidden_dim * 2)\n",
    "        # hidden = (num_layer * 2, bs, hidden_dim)\n",
    "        lstm_out, (hidden, cell) = self.lstm(emb)\n",
    "\n",
    "        # many-to-many 방식이니까 lstm_out을 사용한다.\n",
    "        logits = self.classifier(lstm_out)\n",
    "        # logits 출력 : (bs, seq_len, tag_dim)\n",
    "\n",
    "        # CRF는 훈련모드/평가모드로 나눠서 출력을 달리하자\n",
    "        # 평가모드 작성이 더 쉬우니 평가, 훈련모드 순으로 작성한다\n",
    "        if tags is None : # y_label이 없는 '평가 모드'\n",
    "            # tag가 없으니 마스크도 없다 치고 항상 True마스크를 넣어주자\n",
    "            # 이러면 출력되는 2중 리스트 길이가 [[seq_len], [seq_len]]으로 고정됨\n",
    "            one_mask = torch.ones(logits.size(0), logits.size(1), \n",
    "                                    dtype=torch.bool,\n",
    "                                    device=logits.device)\n",
    "            # CRF의 최적화한 예측값은 2중 리스트 이며\n",
    "            # [[마스크 적용된 가변 seq], [마스크 적용된 가변 seq]] 형태\n",
    "            optim_pred = self.crf.viterbi_decode(logits, mask=one_mask)\n",
    "            # 참고로 mask는 Tensor자료형에 Tag = 1, Pad=0 으로\n",
    "            # 처리된 데이터임을 명심하자\n",
    "            return optim_pred\n",
    "\n",
    "        else: #y_label이 존재하는 '훈련 모드'\n",
    "            # CRF의 출력은 Loss가 기본출력이고\n",
    "            # decode 메서드를 써야 CRF로 최적화한 y_pred를 출력한다.\n",
    "            crf_loss = -self.crf(logits, tags, mask=mask)\n",
    "            # 통상적인 로스함수처럼 스칼라값이 출력된다.\n",
    "            optim_pred = self.crf.viterbi_decode(logits, mask=mask)\n",
    "            # optim_pred 가 이중 리스트 형식이기에 텐서 자료형으로 변환\n",
    "            # 변환되는 형태는 'logits'과 동일하게 변경되게 하며\n",
    "            # 이때 (bs, seq_len, tag_dim=1) 이 된다.\n",
    "            bs, seq_len, _ = logits.size() # 먼저 logit 차원 정보 추출\n",
    "            # 먼저 tensor 자료형을 logis의 구조와 타입과 동일하게 초기화\n",
    "            optim_logits = torch.zeros(bs, seq_len, 1, \n",
    "                                       dtype=logits.dtype,\n",
    "                                       device=logits.device)\n",
    "            # 이중리스트 형식의 optim_pred를 추출해 \n",
    "            # 텐서 자료형인 optim_logits로 전달\n",
    "            for i, seq in enumerate(optim_pred):\n",
    "                optim_logits[i, :len(seq), 0] = torch.tensor(seq,\n",
    "                                                            dtype=logits.dtype,\n",
    "                                                            device=logits.device)\n",
    "            # 최적화된 CRF_y_pred는 텐서 자료형 (bs, seq_len, 1)\n",
    "            return optim_logits, crf_loss"
   ]
  },
  {
   "cell_type": "code",
   "execution_count": null,
   "metadata": {},
   "outputs": [],
   "source": [
    "import torch.nn as nn\n",
    "from TorchCRF import CRF\n",
    "\n",
    "class NERTagger_BiGRU_CRF(nn.Module):\n",
    "    def __init__(self, vocab_size, embed_dim, tag_dim,\n",
    "                 hid_dim, num_layers, emb_matirx=None):\n",
    "        super(NERTagger_BiGRU_CRF, self).__init__()\n",
    "\n",
    "        self.embed = nn.Embedding(vocab_size, embed_dim)\n",
    "        # 사전훈련 임베딩 사용 유/무 함수\n",
    "        if emb_matirx is not None:\n",
    "            self.embed.weight = nn.Parameter(\n",
    "                torch.tensor(emb_matirx, dtype=torch.float32))\n",
    "            self.embed.weight.requires_grad = True\n",
    "\n",
    "        self.gru = nn.GRU(input_size=embed_dim, # GRU에 입력차원\n",
    "                            hidden_size=hid_dim, # GRU의 출력차원\n",
    "                            num_layers=num_layers, # 내부 Cell 몇층?\n",
    "                            bidirectional=True, #양방향 학습 옵션 On\n",
    "                            batch_first=True) # 입력텐서 -> batch가 맨처음\n",
    "        \n",
    "        # 최종적으로 tag 종류를 맟추는 FC layer\n",
    "        # 양방향 연산이기에 FC_layer에 입력되는 feature는 2배로 늘어난다\n",
    "        self.classifier = nn.Sequential(\n",
    "            nn.Linear(hid_dim*2, tag_dim),\n",
    "        )\n",
    "\n",
    "        # CRF 레이어 추가, 입력은 classifier 통과 결과물을 받아야 함\n",
    "        self.crf = CRF(tag_dim)\n",
    "\n",
    "    def forward(self, x, tags=None, mask=None):\n",
    "        # 입력 x : batch_size, seq_length\n",
    "        emb = self.embed(x) # (batch_size, seq_length, embedding_dim)\n",
    "        # 양방향 학습 On이기에\n",
    "        # gru_out : (bs, seq_len, hidden_dim * 2)\n",
    "        # hidden = (num_layer * 2, bs, hidden_dim)\n",
    "        gru_out, hidden = self.gru(emb)\n",
    "\n",
    "        # many-to-many 방식이니까 gru_out을 사용한다.\n",
    "        logits = self.classifier(gru_out)\n",
    "        # logits 출력 : (bs, seq_len, tag_dim)\n",
    "\n",
    "        # CRF는 훈련모드/평가모드로 나눠서 출력을 달리하자\n",
    "        # 평가모드 작성이 더 쉬우니 평가, 훈련모드 순으로 작성한다\n",
    "        if tags is None : # y_label이 없는 '평가 모드'\n",
    "            # tag가 없으니 마스크도 없다 치고 항상 True마스크를 넣어주자\n",
    "            # 이러면 출력되는 2중 리스트 길이가 [[seq_len], [seq_len]]으로 고정됨\n",
    "            one_mask = torch.ones(logits.size(0), logits.size(1), \n",
    "                                    dtype=torch.bool,\n",
    "                                    device=logits.device)\n",
    "            # CRF의 최적화한 예측값은 2중 리스트 이며\n",
    "            # [[마스크 적용된 가변 seq], [마스크 적용된 가변 seq]] 형태\n",
    "            optim_pred = self.crf.viterbi_decode(logits, mask=one_mask)\n",
    "            # 참고로 mask는 Tensor자료형에 Tag = 1, Pad=0 으로\n",
    "            # 처리된 데이터임을 명심하자\n",
    "            return optim_pred\n",
    "\n",
    "        else: #y_label이 존재하는 '훈련 모드'\n",
    "            # CRF의 출력은 Loss가 기본출력이고\n",
    "            # decode 메서드를 써야 CRF로 최적화한 y_pred를 출력한다.\n",
    "            crf_loss = -self.crf(logits, tags, mask=mask)\n",
    "            # 통상적인 로스함수처럼 스칼라값이 출력된다.\n",
    "            optim_pred = self.crf.viterbi_decode(logits, mask=mask)\n",
    "            # optim_pred 가 이중 리스트 형식이기에 텐서 자료형으로 변환\n",
    "            # 변환되는 형태는 'logits'과 동일하게 변경되게 하며\n",
    "            # 이때 (bs, seq_len, tag_dim=1) 이 된다.\n",
    "            bs, seq_len, _ = logits.size() # 먼저 logit 차원 정보 추출\n",
    "            # 먼저 tensor 자료형을 logis의 구조와 타입과 동일하게 초기화\n",
    "            optim_logits = torch.zeros(bs, seq_len, 1, \n",
    "                                       dtype=logits.dtype,\n",
    "                                       device=logits.device)\n",
    "            # 이중리스트 형식의 optim_pred를 추출해 \n",
    "            # 텐서 자료형인 optim_logits로 전달\n",
    "            for i, seq in enumerate(optim_pred):\n",
    "                optim_logits[i, :len(seq), 0] = torch.tensor(seq,\n",
    "                                                            dtype=logits.dtype,\n",
    "                                                            device=logits.device)\n",
    "            # 최적화된 CRF_y_pred는 텐서 자료형 (bs, seq_len, 1)\n",
    "            return optim_logits, crf_loss"
   ]
  },
  {
   "cell_type": "code",
   "execution_count": 27,
   "metadata": {},
   "outputs": [],
   "source": [
    "# 학습 실험 조건을 구분하기 위한 키\n",
    "model_key = ['BiLSTM+CRF', 'BiGRU+CRF']\n",
    "metrics_key = ['Loss', '정확도']"
   ]
  },
  {
   "cell_type": "code",
   "execution_count": 57,
   "metadata": {},
   "outputs": [],
   "source": [
    "# 모델 선언\n",
    "Lstm_tagger = NERTagger_BiLSTM_CRF(VOCAB_SIZE, EMB_DIM, NUM_Tags,\n",
    "                            HIDE_DIM, NUM_Layers)\n",
    "Gru_tagger = NERTagger_BiGRU_CRF(VOCAB_SIZE, EMB_DIM, NUM_Tags,\n",
    "                            HIDE_DIM, NUM_Layers)"
   ]
  },
  {
   "cell_type": "code",
   "execution_count": 29,
   "metadata": {},
   "outputs": [],
   "source": [
    "# GPU사용 가능 유/무 확인\n",
    "device = torch.device(\"cuda\" if torch.cuda.is_available() else 'cpu')\n",
    "models = {} # 딕셔너리\n",
    "\n",
    "models[model_key[0]] = Lstm_tagger.to(device)\n",
    "models[model_key[1]] = Gru_tagger.to(device)"
   ]
  },
  {
   "cell_type": "code",
   "execution_count": 30,
   "metadata": {},
   "outputs": [],
   "source": [
    "import torch.optim as optim\n",
    "# 로스함수 및 옵티마이저 설계\n",
    "# 로스함수에서 <PAD> 토큰의 정수인덱스 번호 -> 0번에 대해서는\n",
    "# 틀리건 맞건 무시하겠다 : ignore_index에 해당 정수 인덱스 번호 기입\n",
    "ignore_class_idx = 0\n",
    "# criterion = nn.CrossEntropyLoss(ignore_index=ignore_class_idx)\n",
    "\n",
    "LR = 0.001 # 러닝레이트는 통일\n",
    "optimizers = {}\n",
    "\n",
    "optimizers[model_key[0]] = optim.Adam(Lstm_tagger.parameters(), lr=LR)\n",
    "optimizers[model_key[1]] = optim.Adam(Gru_tagger.parameters(), lr=LR)"
   ]
  },
  {
   "cell_type": "code",
   "execution_count": 31,
   "metadata": {},
   "outputs": [],
   "source": [
    "# 학습/검증 정보 저장\n",
    "history = {key: {metric: [] \n",
    "                for metric in metrics_key} \n",
    "           for key in model_key}"
   ]
  },
  {
   "cell_type": "code",
   "execution_count": 32,
   "metadata": {},
   "outputs": [],
   "source": [
    "# 사전에 모듈화 한 학습/검증용 라이브러리 import\n",
    "from Ner_Trainer import *\n",
    "\n",
    "num_epoch = 8 #총 훈련/검증 epoch값\n",
    "ES = 2 # 디스플레이용 에포크 스텝"
   ]
  },
  {
   "cell_type": "code",
   "execution_count": 33,
   "metadata": {},
   "outputs": [
    {
     "name": "stdout",
     "output_type": "stream",
     "text": [
      "\n",
      "--현재 훈련중인 조건: [['BiLSTM+CRF']]--\n"
     ]
    },
    {
     "name": "stderr",
     "output_type": "stream",
     "text": [
      "[훈련중]로스: 3.850, 정확도: 0.938: 100%|██████████| 580/580 [02:35<00:00,  3.73it/s]\n",
      "100%|██████████| 109/109 [00:25<00:00,  4.20it/s]\n"
     ]
    },
    {
     "name": "stdout",
     "output_type": "stream",
     "text": [
      "epoch 001,\t훈련 [Loss: 3.850, Acc: 93.79%]\n",
      "epoch 001,\t검증 [Loss: 2.286, Acc: 95.32%]\n"
     ]
    },
    {
     "name": "stderr",
     "output_type": "stream",
     "text": [
      "[훈련중]로스: 1.899, 정확도: 0.959: 100%|██████████| 580/580 [02:35<00:00,  3.73it/s]\n",
      "100%|██████████| 109/109 [00:25<00:00,  4.26it/s]\n"
     ]
    },
    {
     "name": "stdout",
     "output_type": "stream",
     "text": [
      "epoch 002,\t훈련 [Loss: 1.899, Acc: 95.86%]\n",
      "epoch 002,\t검증 [Loss: 1.691, Acc: 96.20%]\n"
     ]
    },
    {
     "name": "stderr",
     "output_type": "stream",
     "text": [
      "[훈련중]로스: 1.023, 정확도: 0.976: 100%|██████████| 580/580 [02:34<00:00,  3.76it/s]\n",
      "100%|██████████| 109/109 [00:24<00:00,  4.38it/s]\n"
     ]
    },
    {
     "name": "stdout",
     "output_type": "stream",
     "text": [
      "epoch 004,\t훈련 [Loss: 1.023, Acc: 97.64%]\n",
      "epoch 004,\t검증 [Loss: 1.201, Acc: 97.24%]\n"
     ]
    },
    {
     "name": "stderr",
     "output_type": "stream",
     "text": [
      "[훈련중]로스: 0.579, 정확도: 0.986: 100%|██████████| 580/580 [02:35<00:00,  3.72it/s]\n",
      "100%|██████████| 109/109 [00:24<00:00,  4.45it/s]\n"
     ]
    },
    {
     "name": "stdout",
     "output_type": "stream",
     "text": [
      "epoch 006,\t훈련 [Loss: 0.579, Acc: 98.65%]\n",
      "epoch 006,\t검증 [Loss: 1.046, Acc: 97.77%]\n"
     ]
    },
    {
     "name": "stderr",
     "output_type": "stream",
     "text": [
      "[훈련중]로스: 0.373, 정확도: 0.991: 100%|██████████| 580/580 [02:33<00:00,  3.79it/s]\n",
      "100%|██████████| 109/109 [00:23<00:00,  4.64it/s]\n"
     ]
    },
    {
     "name": "stdout",
     "output_type": "stream",
     "text": [
      "epoch 008,\t훈련 [Loss: 0.373, Acc: 99.11%]\n",
      "epoch 008,\t검증 [Loss: 1.052, Acc: 97.91%]\n",
      "--조건[['BiLSTM+CRF']] 훈련 종료--\n",
      "\n",
      "\n",
      "--현재 훈련중인 조건: [['BiGRU+CRF']]--\n"
     ]
    },
    {
     "name": "stderr",
     "output_type": "stream",
     "text": [
      "[훈련중]로스: 3.481, 정확도: 0.940: 100%|██████████| 580/580 [02:30<00:00,  3.87it/s]\n",
      "100%|██████████| 109/109 [00:24<00:00,  4.54it/s]\n"
     ]
    },
    {
     "name": "stdout",
     "output_type": "stream",
     "text": [
      "epoch 001,\t훈련 [Loss: 3.481, Acc: 94.05%]\n",
      "epoch 001,\t검증 [Loss: 2.238, Acc: 95.38%]\n"
     ]
    },
    {
     "name": "stderr",
     "output_type": "stream",
     "text": [
      "[훈련중]로스: 1.863, 정확도: 0.960: 100%|██████████| 580/580 [02:30<00:00,  3.86it/s]\n",
      "100%|██████████| 109/109 [00:23<00:00,  4.60it/s]\n"
     ]
    },
    {
     "name": "stdout",
     "output_type": "stream",
     "text": [
      "epoch 002,\t훈련 [Loss: 1.863, Acc: 95.99%]\n",
      "epoch 002,\t검증 [Loss: 1.744, Acc: 96.07%]\n"
     ]
    },
    {
     "name": "stderr",
     "output_type": "stream",
     "text": [
      "[훈련중]로스: 0.937, 정확도: 0.979: 100%|██████████| 580/580 [02:37<00:00,  3.69it/s]\n",
      "100%|██████████| 109/109 [00:25<00:00,  4.22it/s]\n"
     ]
    },
    {
     "name": "stdout",
     "output_type": "stream",
     "text": [
      "epoch 004,\t훈련 [Loss: 0.937, Acc: 97.88%]\n",
      "epoch 004,\t검증 [Loss: 1.137, Acc: 97.54%]\n"
     ]
    },
    {
     "name": "stderr",
     "output_type": "stream",
     "text": [
      "[훈련중]로스: 0.523, 정확도: 0.988: 100%|██████████| 580/580 [02:37<00:00,  3.69it/s]\n",
      "100%|██████████| 109/109 [00:24<00:00,  4.52it/s]\n"
     ]
    },
    {
     "name": "stdout",
     "output_type": "stream",
     "text": [
      "epoch 006,\t훈련 [Loss: 0.523, Acc: 98.79%]\n",
      "epoch 006,\t검증 [Loss: 1.052, Acc: 97.86%]\n"
     ]
    },
    {
     "name": "stderr",
     "output_type": "stream",
     "text": [
      "[훈련중]로스: 0.342, 정확도: 0.992: 100%|██████████| 580/580 [02:36<00:00,  3.72it/s]\n",
      "100%|██████████| 109/109 [00:24<00:00,  4.48it/s]"
     ]
    },
    {
     "name": "stdout",
     "output_type": "stream",
     "text": [
      "epoch 008,\t훈련 [Loss: 0.342, Acc: 99.20%]\n",
      "epoch 008,\t검증 [Loss: 1.098, Acc: 97.91%]\n",
      "--조건[['BiGRU+CRF']] 훈련 종료--\n",
      "\n"
     ]
    },
    {
     "name": "stderr",
     "output_type": "stream",
     "text": [
      "\n"
     ]
    }
   ],
   "source": [
    "for key in model_key:\n",
    "    print(f\"\\n--현재 훈련중인 조건: [{[key]}]--\") # 조건에 맞는 실험시작\n",
    "    for epoch in range(num_epoch): #에포크별 모델 훈련/검증\n",
    "        # 모델 훈련\n",
    "        train_loss, train_acc = model_train(\n",
    "            models[key], trainloader,\n",
    "            optimizers[key], epoch, ES, \n",
    "            ignore_class=ignore_class_idx, #무시할 클래스 인덱스\n",
    "            CRF=True #CRF 모드로 동작한다 선언\n",
    "        ) #모델 검증\n",
    "\n",
    "        val_loss, val_acc = model_evaluate(\n",
    "            models[key], valloader,\n",
    "            epoch, ES, ignore_class=ignore_class_idx, #무시할 클래스 인덱스\n",
    "            CRF=True #CRF 모드로 동작한다 선언\n",
    "        )\n",
    "\n",
    "        # 손실 및 성과 지표를 history에 저장\n",
    "        history[key]['Loss'].append((train_loss, val_loss))\n",
    "        history[key]['정확도'].append((train_acc, val_acc))\n",
    "\n",
    "        # Epoch_step(ES)일 때마다 print수행\n",
    "        if (epoch+1) % ES == 0 or epoch == 0:\n",
    "            print(f\"epoch {epoch+1:03d},\" + \"\\t\" + \n",
    "                f\"훈련 [Loss: {train_loss:.3f}, \" +\n",
    "                f\"Acc: {train_acc*100:.2f}%]\")\n",
    "            print(f\"epoch {epoch+1:03d},\" + \"\\t\" + \n",
    "                f\"검증 [Loss: {val_loss:.3f}, \" +\n",
    "                f\"Acc: {val_acc*100:.2f}%]\")\n",
    "    print(f\"--조건[{[key]}] 훈련 종료--\\n\") # 조건에 맞는 실험종료"
   ]
  },
  {
   "cell_type": "code",
   "execution_count": 34,
   "metadata": {},
   "outputs": [],
   "source": [
    "# 학습된 모델 저장\n",
    "path = {} #모델별 경로명 저장\n",
    "for mk in model_key:\n",
    "    path[mk] = f'{mk}_NER.pth'\n",
    "    torch.save(models[mk].state_dict(), path[mk])"
   ]
  },
  {
   "cell_type": "code",
   "execution_count": 58,
   "metadata": {},
   "outputs": [],
   "source": [
    "# 저장된 모델 불러오기\n",
    "load_model = {\n",
    "    'BiLSTM+CRF': Lstm_tagger,  # LSTM 모델 인스턴스 생성\n",
    "    'BiGRU+CRF': Gru_tagger      # GRU 모델 인스턴스 생성\n",
    "}\n",
    "for mk in model_key:\n",
    "    load_model[mk].load_state_dict(torch.load(path[mk], weights_only=True))\n",
    "    #추론기는 CPU에서 돌리자\n",
    "    load_model[mk] = load_model[mk].to('cpu')"
   ]
  },
  {
   "cell_type": "code",
   "execution_count": 102,
   "metadata": {},
   "outputs": [
    {
     "name": "stdout",
     "output_type": "stream",
     "text": [
      "임의의 원문: 진해 중앙동 김밥1번지 앞 소화전 불법 주정차 차량 신고합니다 신속한 조치 바랍니다 \n",
      "원문의 태그: [['진해', 'LOC'], ['중앙동', 'LOC'], ['김밥1번지', 'LOC'], ['앞', 'TRM'], ['차량', 'AFW']]\n"
     ]
    }
   ],
   "source": [
    "import random\n",
    "total_docs = len(raw_data)\n",
    "sample_idx = random.randint(0, total_docs-1)\n",
    "\n",
    "# 데이터프레임의 항목을 분리 후 리스트 타입으로 변경\n",
    "sample_doc = raw_data['컨텐츠'].iloc[sample_idx]\n",
    "# 개체 : 개체 라벨링 의 태그 정보는 따로 추출한다.\n",
    "sample_tag = raw_data['개체'].iloc[sample_idx]\n",
    "\n",
    "print(f'임의의 원문: {sample_doc}')\n",
    "print(f'원문의 태그: {sample_tag}')"
   ]
  },
  {
   "cell_type": "code",
   "execution_count": 103,
   "metadata": {},
   "outputs": [],
   "source": [
    "def convert_model_input(x_data, word_tokenizer, word_to_idx, context_length):\n",
    "    token_x_data = tokenize([x_data], word_tokenizer)\n",
    "    e_token = text_to_sequences(token_x_data, word_to_idx)\n",
    "    pad_token = pad_seq_x(e_token, context_length)\n",
    "    t_pad_token = torch.tensor(pad_token, dtype=torch.long)\n",
    "\n",
    "    return t_pad_token # 출력물은 (1, seq_len)의 텐서 자료형\n",
    "\n",
    "def convert_tag_label(x_data, tags, word_tokenizer, tag_to_idx, context_length):\n",
    "    temp = tokenize([x_data], word_tokenizer)\n",
    "    token_label, _ = BIO_tagging(temp, [tags], word_tokenizer)\n",
    "    e_label = text_to_sequences(token_label, tag_to_idx, spec_token='O')\n",
    "    pad_label = pad_seq_x(e_label, context_length)\n",
    "    t_pad_label = torch.tensor(pad_label, dtype=torch.long)\n",
    "\n",
    "    return t_pad_label # 출력물은 (1, seq_len)의 텐서 자료형"
   ]
  },
  {
   "cell_type": "code",
   "execution_count": 104,
   "metadata": {},
   "outputs": [
    {
     "name": "stderr",
     "output_type": "stream",
     "text": [
      "토큰화 진행 중: 100%|██████████| 1/1 [00:00<00:00, 1000.07it/s]\n"
     ]
    },
    {
     "name": "stdout",
     "output_type": "stream",
     "text": [
      "\n"
     ]
    },
    {
     "name": "stderr",
     "output_type": "stream",
     "text": [
      "토큰화 진행 중: 100%|██████████| 1/1 [00:00<00:00, 998.88it/s]\n",
      "BIO 태깅 진행 중: 100%|██████████| 1/1 [00:00<?, ?it/s]\n"
     ]
    }
   ],
   "source": [
    "t_doc = convert_model_input(sample_doc, word_tokenizer, word_to_idx, context_length)\n",
    "print()\n",
    "t_label = convert_tag_label(sample_doc, sample_tag, word_tokenizer, tag_to_idx, context_length)"
   ]
  },
  {
   "cell_type": "code",
   "execution_count": 105,
   "metadata": {},
   "outputs": [],
   "source": [
    "# 모델별 추론 수행행\n",
    "outputs = {}\n",
    "for mk in model_key:\n",
    "    load_model[mk].eval()\n",
    "\n",
    "    with torch.no_grad():\n",
    "        # 모델의 출력값 연산\n",
    "        output = load_model[mk](t_doc)\n",
    "        # 모델의 출력값은 2중 리스트 형태 -> numpy로 변환\n",
    "        outputs[mk] = np.array(output[0])"
   ]
  },
  {
   "cell_type": "code",
   "execution_count": 106,
   "metadata": {},
   "outputs": [
    {
     "name": "stdout",
     "output_type": "stream",
     "text": [
      "(40,)\n",
      "======  ========  ============  ===========\n",
      "단어    실제값    LSTM예측값    GRU예측값\n",
      "======  ========  ============  ===========\n",
      "진해    B-LOC     B-LOC         B-LOC\n",
      "중앙동  B-LOC     B-LOC         B-LOC\n",
      "김밥    B-LOC     B-LOC         B-LOC\n",
      "1       I-LOC     I-LOC         I-LOC\n",
      "번지    I-LOC     I-LOC         I-LOC\n",
      "앞      B-TRM     B-TRM         B-TRM\n",
      "소화전  O         O             O\n",
      "불법    O         O             O\n",
      "주정차  O         O             O\n",
      "차량    B-AFW     B-AFW         B-AFW\n",
      "신고    O         O             O\n",
      "<UNK>   O         O             O\n",
      "<UNK>   O         O             O\n",
      "한      O         O             O\n",
      "조치    O         O             O\n",
      "<UNK>   O         O             O\n",
      "======  ========  ============  ===========\n"
     ]
    }
   ],
   "source": [
    "# 출력할 데이터를 저장할 리스트 생성\n",
    "table_data = []\n",
    "\n",
    "x_data = t_doc[0].cpu().numpy()\n",
    "y_label = t_label[0].cpu().numpy()\n",
    "\n",
    "print(x_data.shape)\n",
    "\n",
    "for word, tag, lstm_pred, gru_pred in zip(x_data, y_label, \n",
    "                                          outputs['BiLSTM+CRF'],\n",
    "                                          outputs['BiGRU+CRF']):\n",
    "    if word != 0: #PAD 토큰 제외\n",
    "        table_data.append([idx_to_word[word], idx_to_tag[tag], \n",
    "                           idx_to_tag[lstm_pred], idx_to_tag[gru_pred]])\n",
    "        \n",
    "# 테이블 헤더\n",
    "headers = [\"단어\", \"실제값\", \"LSTM예측값\", \"GRU예측값\"]\n",
    "\n",
    "# tabulate를 사용하여 출력\n",
    "print(tabulate(table_data, headers=headers, tablefmt=\"rst\"))"
   ]
  }
 ],
 "metadata": {
  "kernelspec": {
   "display_name": "Python 3",
   "language": "python",
   "name": "python3"
  },
  "language_info": {
   "codemirror_mode": {
    "name": "ipython",
    "version": 3
   },
   "file_extension": ".py",
   "mimetype": "text/x-python",
   "name": "python",
   "nbconvert_exporter": "python",
   "pygments_lexer": "ipython3",
   "version": "3.8.10"
  }
 },
 "nbformat": 4,
 "nbformat_minor": 2
}
